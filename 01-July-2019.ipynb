{
 "cells": [
  {
   "cell_type": "markdown",
   "metadata": {},
   "source": [
    "### Functions:\n",
    "- Group of statements that together can perform a task is called functions\n",
    "- Reusability\n",
    "- To perform specific task\n",
    "- Passing parameters and return Output\n",
    "- There are two types of funtions\n",
    "    - Predefined\n",
    "    - Userdefined\n",
    "    "
   ]
  },
  {
   "cell_type": "code",
   "execution_count": 1,
   "metadata": {},
   "outputs": [
    {
     "name": "stdout",
     "output_type": "stream",
     "text": [
      "3\n",
      "satya\n",
      "amma\n",
      "namma\n"
     ]
    }
   ],
   "source": [
    "### 6.Print factorial of a value if the length of a string is  prime otherwise print string in reverse\n",
    "\n",
    "#### test cases : 3\n",
    "\n",
    "#### b --> 1 \n",
    "#### hello -->120\n",
    "#### hello python ->nohtyp olleh\n",
    "\n",
    "n=int(input())\n",
    "for i in range(1,n+1):\n",
    "    s=input()\n",
    "    for i in s:\n",
    "        \n",
    "   "
   ]
  },
  {
   "cell_type": "code",
   "execution_count": 16,
   "metadata": {},
   "outputs": [
    {
     "name": "stdout",
     "output_type": "stream",
     "text": [
      "1 2 10 100 500 50 100 6 7 \n",
      "300\n"
     ]
    }
   ],
   "source": [
    "##9. Find the average of unique three digit numbers\n",
    "#1 2 10 100 500 50 100 6 7 \n",
    "#300\n",
    "n=input()\n",
    "li=n.split()\n",
    "li1 = []\n",
    "count=0\n",
    "sum=0\n",
    "for i in li:\n",
    "    if len(i) == 3:\n",
    "        if i not in li1:\n",
    "            li1.append(i)\n",
    "            sum=sum+int(i)\n",
    "            count=count+1\n",
    "print(sum//count)\n",
    "        "
   ]
  },
  {
   "cell_type": "markdown",
   "metadata": {},
   "source": [
    "# defineing funtion\n",
    "- def funtion_name(par1,par2,par3..):\n",
    "   - funtion body\n",
    "- funtion_name(arg1,arg2,arg3...)"
   ]
  },
  {
   "cell_type": "code",
   "execution_count": 19,
   "metadata": {},
   "outputs": [
    {
     "name": "stdout",
     "output_type": "stream",
     "text": [
      "9\n"
     ]
    }
   ],
   "source": [
    "# Passing arguments and return nothing\n",
    "\n",
    "def add(a,b):\n",
    "    print(a+b)\n",
    "    return\n",
    "add(5,4)   "
   ]
  },
  {
   "cell_type": "code",
   "execution_count": 22,
   "metadata": {},
   "outputs": [
    {
     "name": "stdout",
     "output_type": "stream",
     "text": [
      "9\n"
     ]
    }
   ],
   "source": [
    "# Passing arguments and return result\n",
    "def add(a,b):\n",
    "    return a+b\n",
    "rs=add(4,5)\n",
    "print(rs)"
   ]
  },
  {
   "cell_type": "code",
   "execution_count": 30,
   "metadata": {},
   "outputs": [
    {
     "name": "stdout",
     "output_type": "stream",
     "text": [
      "4\n"
     ]
    },
    {
     "data": {
      "text/plain": [
       "True"
      ]
     },
     "execution_count": 30,
     "metadata": {},
     "output_type": "execute_result"
    }
   ],
   "source": [
    "#check even or not\n",
    "def iseven(a):\n",
    "    if a%2==0:\n",
    "        return True\n",
    "    return False\n",
    "n=int(input())\n",
    "iseven(n)"
   ]
  },
  {
   "cell_type": "code",
   "execution_count": 49,
   "metadata": {},
   "outputs": [
    {
     "name": "stdout",
     "output_type": "stream",
     "text": [
      "6\n"
     ]
    },
    {
     "data": {
      "text/plain": [
       "720"
      ]
     },
     "execution_count": 49,
     "metadata": {},
     "output_type": "execute_result"
    }
   ],
   "source": [
    "n=int(input())\n",
    "def fact(a):\n",
    "    fact=1\n",
    "    if iseven(a):\n",
    "        for i in range(1,a+1):\n",
    "            fact=fact*i\n",
    "        return fact\n",
    "    return \"No\"\n",
    "fact(n)"
   ]
  },
  {
   "cell_type": "code",
   "execution_count": 48,
   "metadata": {},
   "outputs": [
    {
     "name": "stdout",
     "output_type": "stream",
     "text": [
      "2\n"
     ]
    },
    {
     "data": {
      "text/plain": [
       "False"
      ]
     },
     "execution_count": 48,
     "metadata": {},
     "output_type": "execute_result"
    }
   ],
   "source": [
    "## check the given number is prime or not\n",
    "n=int(input())\n",
    "def isprime(n):\n",
    "    for i in range(1,n+1):\n",
    "        count=0\n",
    "        if n%i==0:\n",
    "            count=count+1\n",
    "    if count==2:\n",
    "        return True\n",
    "    return False\n",
    "isprime(n)"
   ]
  },
  {
   "cell_type": "code",
   "execution_count": null,
   "metadata": {},
   "outputs": [],
   "source": [
    "# check leap year or not\n"
   ]
  }
 ],
 "metadata": {
  "kernelspec": {
   "display_name": "Python 3",
   "language": "python",
   "name": "python3"
  },
  "language_info": {
   "codemirror_mode": {
    "name": "ipython",
    "version": 3
   },
   "file_extension": ".py",
   "mimetype": "text/x-python",
   "name": "python",
   "nbconvert_exporter": "python",
   "pygments_lexer": "ipython3",
   "version": "3.7.3"
  }
 },
 "nbformat": 4,
 "nbformat_minor": 2
}
