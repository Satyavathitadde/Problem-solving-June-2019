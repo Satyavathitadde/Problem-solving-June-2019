{
 "cells": [
  {
   "cell_type": "markdown",
   "metadata": {},
   "source": [
    "### Problem Solving and Programming in Python\n",
    "\n",
    "\n",
    "### Date-14 June 2019\n",
    "\n",
    "Day Objectives\n",
    "- Python Data Structures\n",
    "    - Lists\n",
    "    - Tuples\n",
    "    - Dictionaries\n",
    "- Basic problem set on data structures\n",
    "- Advanced problem set\n",
    "- Packages and modules in python"
   ]
  },
  {
   "cell_type": "markdown",
   "metadata": {},
   "source": [
    "## Python Data structures\n",
    "\n",
    "Lists"
   ]
  },
  {
   "cell_type": "code",
   "execution_count": 45,
   "metadata": {},
   "outputs": [
    {
     "data": {
      "text/plain": [
       "456.0"
      ]
     },
     "execution_count": 45,
     "metadata": {},
     "output_type": "execute_result"
    }
   ],
   "source": [
    "li=[123,978,654]\n",
    "\n",
    "li # Accessing the entire list\n",
    "\n",
    "li[1] # Accessing an element with index in a list\n",
    "\n",
    "li[1:]# Acceessing all elements from second to last element\n",
    "\n",
    "li=li[::-1] # reversing list elements and \n",
    "\n",
    "li\n",
    "\n",
    "li=li[::-1]\n",
    "li\n",
    "\n",
    "li[1::2]# Accessing even index element\n",
    "\n",
    "# Lists can be accessed ,manipulated in two ways in list\n",
    "         # Direct Referencing-[index]\n",
    "         # Indirect Referencing- through functions\n",
    "\n",
    "li.append(345) # Adding an element to end of the list\n",
    "\n",
    "li.insert(1,234) # Adding an element at a particular index\n",
    "\n",
    "li.sort() # Sort elements in ascending order\n",
    "\n",
    "li.pop() # Remove the last elements in a list\n",
    "\n",
    "li.pop(1)# Remove an element at a particular index\n",
    "\n",
    "li2=[234,456,789]\n",
    "\n",
    "li.extend(li2) # Merge list 2 into list 1\n",
    "\n",
    "sum(li) # Sum of all elements in list\n",
    "max(li) # Maximum element in a list\n",
    "len(li) # Number of elements in a list\n",
    "\n",
    "sum(li)/len(li)  # Average of list elements\n",
    "\n",
    "sum(li[1::2])/len(li[1::2]) # Average of all alternate elements\n",
    "\n",
    "\n",
    "\n"
   ]
  },
  {
   "cell_type": "code",
   "execution_count": 80,
   "metadata": {},
   "outputs": [
    {
     "data": {
      "text/plain": [
       "123"
      ]
     },
     "execution_count": 80,
     "metadata": {},
     "output_type": "execute_result"
    }
   ],
   "source": [
    "# Function to identify the second largest element in a list\n",
    "\n",
    "def secondlargest(li):\n",
    "    li.sort()\n",
    "    return li[-2]\n",
    "def Genericlargest(li,n):\n",
    "    li.sort()\n",
    "    return li[-n]\n",
    "secondlargest([123,547,899,86,948,689])\n",
    "Genericlargest([123,547,899,86,948,689],5)\n"
   ]
  },
  {
   "cell_type": "code",
   "execution_count": 101,
   "metadata": {},
   "outputs": [
    {
     "name": "stdout",
     "output_type": "stream",
     "text": [
      "1\n"
     ]
    }
   ],
   "source": [
    "# Function to search for data in a list\n",
    "#Search for the key in the list and return the index\n",
    "li=[123,45,67,89]\n",
    "def linearsearch(li,key):\n",
    "    for index in range(0,len(li)):\n",
    "        if li[index]==key:\n",
    "            return index+1\n",
    "    return -1\n",
    "def linearsearch2(li,key):\n",
    "    for element in li:\n",
    "        if element==key:\n",
    "            return li.index(element)\n",
    "    return -1\n",
    "\n",
    "def linearsearch3(li,key):\n",
    "    if key in li:\n",
    "        return li.index(key)\n",
    "    else:\n",
    "        return -1\n",
    "print(linearsearch3(li,45))"
   ]
  },
  {
   "cell_type": "code",
   "execution_count": 115,
   "metadata": {},
   "outputs": [
    {
     "data": {
      "text/plain": [
       "2"
      ]
     },
     "execution_count": 115,
     "metadata": {},
     "output_type": "execute_result"
    }
   ],
   "source": [
    "# Function to count the occurances of a character in a string\n",
    "\n",
    "def occurances(s,c):\n",
    "    count=0\n",
    "    for ch in s:\n",
    "        if ch==c:\n",
    "            count=count+1\n",
    "    return count\n",
    "def occurances2(s,c):\n",
    "    return s.count(c)\n",
    "occurances2(\"python programming\",'r')\n",
    "   "
   ]
  },
  {
   "cell_type": "code",
   "execution_count": 8,
   "metadata": {},
   "outputs": [
    {
     "data": {
      "text/plain": [
       "[1, 2, 3, 4, 5, 6]"
      ]
     },
     "execution_count": 8,
     "metadata": {},
     "output_type": "execute_result"
    }
   ],
   "source": [
    "s=\"1 2 3 4 5 6\"\n",
    "li=s.split()\n",
    "numberList=[]\n",
    "for i in li:\n",
    "    numberList.append(int(i))\n",
    "numberList"
   ]
  },
  {
   "cell_type": "code",
   "execution_count": 1,
   "metadata": {},
   "outputs": [
    {
     "name": "stdout",
     "output_type": "stream",
     "text": [
      "3\n"
     ]
    },
    {
     "data": {
      "text/plain": [
       "14"
      ]
     },
     "execution_count": 1,
     "metadata": {},
     "output_type": "execute_result"
    }
   ],
   "source": [
    "N=int(input())\n",
    "def sumofsqares(N):\n",
    "    sum=0\n",
    "    for i in range(1,N+1):\n",
    "        sum=sum+(i**2)\n",
    "    return  \n",
    "sumofsqares(N)\n",
    "        "
   ]
  },
  {
   "cell_type": "code",
   "execution_count": null,
   "metadata": {},
   "outputs": [],
   "source": []
  }
 ],
 "metadata": {
  "kernelspec": {
   "display_name": "Python 3",
   "language": "python",
   "name": "python3"
  },
  "language_info": {
   "codemirror_mode": {
    "name": "ipython",
    "version": 3
   },
   "file_extension": ".py",
   "mimetype": "text/x-python",
   "name": "python",
   "nbconvert_exporter": "python",
   "pygments_lexer": "ipython3",
   "version": "3.7.3"
  }
 },
 "nbformat": 4,
 "nbformat_minor": 2
}
