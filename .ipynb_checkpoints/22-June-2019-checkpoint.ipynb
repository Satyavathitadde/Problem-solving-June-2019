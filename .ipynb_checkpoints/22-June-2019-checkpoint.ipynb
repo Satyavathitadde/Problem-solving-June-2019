{
 "cells": [
  {
   "cell_type": "markdown",
   "metadata": {},
   "source": [
    "### Date:22-June-2019\n",
    "\n",
    "### Day Objectives\n",
    "-  File Handling\n",
    "    - Basic File Data processing\n",
    "        - Accessing and Modifying File data\n",
    "    - Character Count \n",
    "    - Line Count\n",
    "    - File Size\n",
    "    - Word Count\n",
    "    - Unique Word Count\n",
    "    "
   ]
  },
  {
   "cell_type": "code",
   "execution_count": 12,
   "metadata": {},
   "outputs": [
    {
     "name": "stdout",
     "output_type": "stream",
     "text": [
      "new data\n",
      "Line2\n",
      "Line3\n",
      "Line4\n",
      "Line5\n",
      "Line2\n",
      "Line3\n",
      "Line4\n",
      "Line5\n"
     ]
    }
   ],
   "source": [
    "# Read a File - File should exist (Read Mode)\n",
    "# Write to a File - Existing(append mode) or New File(Write mode)\n",
    "\n",
    "def readFile(filePath):\n",
    "    with open(filePath,'r') as f:\n",
    "        filedata=f.read()\n",
    "    return filedata\n",
    "filePath='DataFiles/data.txt'\n",
    "print(readFile(filePath))\n",
    "         "
   ]
  },
  {
   "cell_type": "code",
   "execution_count": 10,
   "metadata": {},
   "outputs": [
    {
     "name": "stdout",
     "output_type": "stream",
     "text": [
      "56\n"
     ]
    }
   ],
   "source": [
    "# Character count\n",
    "\n",
    "def charactercount(filePath):\n",
    "    c=0\n",
    "    with open(filePath,'r') as f:\n",
    "        filedata=f.read()\n",
    "        for i in filedata:\n",
    "            c=c+1\n",
    "        print(c)\n",
    "    \n",
    "            \n",
    "filePath='DataFiles/data.txt'\n",
    "charactercount(filePath)"
   ]
  },
  {
   "cell_type": "code",
   "execution_count": 11,
   "metadata": {},
   "outputs": [
    {
     "name": "stdout",
     "output_type": "stream",
     "text": [
      "9\n"
     ]
    }
   ],
   "source": [
    "# Line count\n",
    "def linecount(filePath):\n",
    "    c=0\n",
    "    with open(filePath,'r') as f:\n",
    "        for i in f:\n",
    "            c=c+1\n",
    "    print(c)\n",
    "    \n",
    "            \n",
    "filePath='DataFiles/data.txt'\n",
    "linecount(filePath)"
   ]
  },
  {
   "cell_type": "code",
   "execution_count": 13,
   "metadata": {},
   "outputs": [
    {
     "name": "stdout",
     "output_type": "stream",
     "text": [
      "56\n"
     ]
    }
   ],
   "source": [
    "# File Size\n",
    "\n",
    "def fielsize(filePath):\n",
    "    c=0\n",
    "    with open(filePath,'r') as f:\n",
    "        filedata=f.read()\n",
    "        for i in filedata:\n",
    "            c=c+1\n",
    "        print(c*1)\n",
    "    \n",
    "            \n",
    "filePath='DataFiles/data.txt'\n",
    "fielsize(filePath)"
   ]
  },
  {
   "cell_type": "code",
   "execution_count": 3,
   "metadata": {},
   "outputs": [
    {
     "name": "stdout",
     "output_type": "stream",
     "text": [
      "2\n",
      "1 4\n",
      "2 5\n",
      "3 9 "
     ]
    }
   ],
   "source": [
    "# Add two arrays of a list\n",
    "\n",
    "n=int(input())\n",
    "a1=list(map(int,input().split()))\n",
    "a2=list(map(int,input().split()))\n",
    "a3=[]\n",
    "for i in range(0,n):\n",
    "    a3.append(a1[i]+a2[i])\n",
    "for j in a3:\n",
    "    print(j,end=\" \")\n",
    "    \n"
   ]
  },
  {
   "cell_type": "code",
   "execution_count": 17,
   "metadata": {},
   "outputs": [
    {
     "data": {
      "text/plain": [
       "['new data',\n",
       " 'Line2',\n",
       " 'Line3',\n",
       " 'Line4',\n",
       " 'Line5',\n",
       " 'Line2',\n",
       " 'Line3',\n",
       " 'Line4',\n",
       " 'Line5']"
      ]
     },
     "execution_count": 17,
     "metadata": {},
     "output_type": "execute_result"
    }
   ],
   "source": [
    "# Funtion to read file into a list of lines\n",
    "# Each element in the list is one line in the file\n",
    "\n",
    "\n",
    "def readFileIntoList(filepath):\n",
    "    with open(filepath,'r') as f:\n",
    "        filedata=f.read()\n",
    "        lines=filedata.split('\\n')\n",
    "    return lines\n",
    "filepath='DataFiles/data.txt'\n",
    "readFileIntoList(filepath)\n",
    "\n",
    "\n"
   ]
  },
  {
   "cell_type": "code",
   "execution_count": 18,
   "metadata": {},
   "outputs": [
    {
     "data": {
      "text/plain": [
       "9"
      ]
     },
     "execution_count": 18,
     "metadata": {},
     "output_type": "execute_result"
    }
   ],
   "source": [
    "# Funtion to count number of lines in a file\n",
    "\n",
    "def countlinesFile(filepath):\n",
    "    count=len(readFileIntoList(filepath))\n",
    "    return count\n",
    "countlinesFile(filepath)\n"
   ]
  },
  {
   "cell_type": "code",
   "execution_count": 15,
   "metadata": {},
   "outputs": [
    {
     "data": {
      "text/plain": [
       "56"
      ]
     },
     "execution_count": 15,
     "metadata": {},
     "output_type": "execute_result"
    }
   ],
   "source": [
    "# Funtion to count the number of characters in file\n",
    "\n",
    "def charcountfile(filepath):\n",
    "    count=len(readFile(filepath))\n",
    "    return count\n",
    "\n",
    "charcountfile(filepath)\n"
   ]
  },
  {
   "cell_type": "code",
   "execution_count": 19,
   "metadata": {},
   "outputs": [
    {
     "data": {
      "text/plain": [
       "10"
      ]
     },
     "execution_count": 19,
     "metadata": {},
     "output_type": "execute_result"
    }
   ],
   "source": [
    "# Function to count the number of words in a file\n",
    "import re\n",
    "\n",
    "def wordCountFile(filepath):\n",
    "    pattern ='[ \\n]'\n",
    "    filedata=readFile(filepath)\n",
    "    count=len(re.split(pattern,filedata))\n",
    "    return count\n",
    "\n",
    "wordCountFile(filepath)\n"
   ]
  }
 ],
 "metadata": {
  "kernelspec": {
   "display_name": "Python 3",
   "language": "python",
   "name": "python3"
  },
  "language_info": {
   "codemirror_mode": {
    "name": "ipython",
    "version": 3
   },
   "file_extension": ".py",
   "mimetype": "text/x-python",
   "name": "python",
   "nbconvert_exporter": "python",
   "pygments_lexer": "ipython3",
   "version": "3.7.3"
  }
 },
 "nbformat": 4,
 "nbformat_minor": 2
}
