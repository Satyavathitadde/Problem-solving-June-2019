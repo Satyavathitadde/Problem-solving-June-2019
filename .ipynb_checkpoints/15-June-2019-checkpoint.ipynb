{
 "cells": [
  {
   "cell_type": "code",
   "execution_count": 1,
   "metadata": {},
   "outputs": [
    {
     "data": {
      "text/plain": [
       "['__add__',\n",
       " '__class__',\n",
       " '__contains__',\n",
       " '__delattr__',\n",
       " '__delitem__',\n",
       " '__dir__',\n",
       " '__doc__',\n",
       " '__eq__',\n",
       " '__format__',\n",
       " '__ge__',\n",
       " '__getattribute__',\n",
       " '__getitem__',\n",
       " '__gt__',\n",
       " '__hash__',\n",
       " '__iadd__',\n",
       " '__imul__',\n",
       " '__init__',\n",
       " '__init_subclass__',\n",
       " '__iter__',\n",
       " '__le__',\n",
       " '__len__',\n",
       " '__lt__',\n",
       " '__mul__',\n",
       " '__ne__',\n",
       " '__new__',\n",
       " '__reduce__',\n",
       " '__reduce_ex__',\n",
       " '__repr__',\n",
       " '__reversed__',\n",
       " '__rmul__',\n",
       " '__setattr__',\n",
       " '__setitem__',\n",
       " '__sizeof__',\n",
       " '__str__',\n",
       " '__subclasshook__',\n",
       " 'append',\n",
       " 'clear',\n",
       " 'copy',\n",
       " 'count',\n",
       " 'extend',\n",
       " 'index',\n",
       " 'insert',\n",
       " 'pop',\n",
       " 'remove',\n",
       " 'reverse',\n",
       " 'sort']"
      ]
     },
     "execution_count": 1,
     "metadata": {},
     "output_type": "execute_result"
    }
   ],
   "source": [
    "dir(list())"
   ]
  },
  {
   "cell_type": "code",
   "execution_count": 9,
   "metadata": {},
   "outputs": [
    {
     "data": {
      "text/plain": [
       "[100, 1, 2, 3, 4, 22, [1, 2, 3], 1, 2]"
      ]
     },
     "execution_count": 9,
     "metadata": {},
     "output_type": "execute_result"
    }
   ],
   "source": [
    "l=[1,2,3,4]\n",
    "l.append(22)\n",
    "l\n",
    "l.append([1,2,3])\n",
    "l\n",
    "l.extend([1,2])\n",
    "l.insert(0,100)\n",
    "l"
   ]
  },
  {
   "cell_type": "markdown",
   "metadata": {},
   "source": [
    "#### Problem-closestZero\n",
    "Explanation\n",
    "\n",
    "- li=[3,2,-1,-2,-3]\n",
    "- sort the data\n",
    "- lo=[-3,-2,-1,2,3] (sorted list)\n",
    "- pl=[1,2,2,3,3] (positive sorted list)\n",
    "- pl[0]->check if this number is -ve or +ve in the original list\n",
    "- if pl[0] in li:\n",
    "   - return pl[0]\n",
    "- else\n",
    "    - return -pl[0]\n"
   ]
  },
  {
   "cell_type": "code",
   "execution_count": 19,
   "metadata": {},
   "outputs": [
    {
     "name": "stdout",
     "output_type": "stream",
     "text": [
      "0\n"
     ]
    }
   ],
   "source": [
    "li=[-1,-2,2,3,0]\n",
    "li.sort()\n",
    "pl=[]\n",
    "for i in li:\n",
    "    pl.append(abs(i))\n",
    "pl.sort()\n",
    "if pl[0] in li:\n",
    "    print(pl[0])\n",
    "else:\n",
    "    print(-pl[0])\n",
    "    \n",
    "    "
   ]
  },
  {
   "cell_type": "code",
   "execution_count": 23,
   "metadata": {},
   "outputs": [
    {
     "name": "stdout",
     "output_type": "stream",
     "text": [
      "-5\n"
     ]
    }
   ],
   "source": [
    "# ForthestFromZero\n",
    "\n",
    "\n",
    "li=[-1,-2,2,3,0,-5]\n",
    "li.sort()\n",
    "pl=[]\n",
    "for i in li:\n",
    "    pl.append(abs(i))\n",
    "pl.sort()\n",
    "if pl[-1] in li:\n",
    "    print(pl[-1])\n",
    "else:\n",
    "    print(-pl[-1])\n",
    "    \n",
    "    "
   ]
  },
  {
   "cell_type": "markdown",
   "metadata": {},
   "source": [
    "### problem-3\n",
    "You are given three numbers ,a,b and c\n",
    "write a program to find the largest number which is less than or equal to c and leaves remainder b when divided by a.\n"
   ]
  },
  {
   "cell_type": "code",
   "execution_count": 10,
   "metadata": {},
   "outputs": [
    {
     "data": {
      "text/plain": [
       "8"
      ]
     },
     "execution_count": 10,
     "metadata": {},
     "output_type": "execute_result"
    }
   ],
   "source": [
    "def largestnumbers(a,b,c):\n",
    "    for i in range(c,b+1,-1):\n",
    "        if i%a==b:\n",
    "            return i\n",
    "    else:\n",
    "        return -1\n",
    "largestnumbers(3,2,9)"
   ]
  },
  {
   "cell_type": "code",
   "execution_count": 8,
   "metadata": {},
   "outputs": [
    {
     "data": {
      "text/plain": [
       "-1"
      ]
     },
     "execution_count": 8,
     "metadata": {},
     "output_type": "execute_result"
    }
   ],
   "source": [
    "def cal(a,b,c):\n",
    "    for i in range(c,a-1,-1):\n",
    "        if i%a==b:\n",
    "            return i\n",
    "    else:\n",
    "        return -1\n",
    "cal(1,2,4)"
   ]
  },
  {
   "cell_type": "code",
   "execution_count": null,
   "metadata": {},
   "outputs": [],
   "source": [
    "li=[int(i) for i in input"
   ]
  },
  {
   "cell_type": "markdown",
   "metadata": {},
   "source": [
    "### Hackerearth Problems"
   ]
  },
  {
   "cell_type": "code",
   "execution_count": 11,
   "metadata": {},
   "outputs": [
    {
     "name": "stdout",
     "output_type": "stream",
     "text": [
      "1 10 1\n",
      "10\n"
     ]
    }
   ],
   "source": [
    "def countdivisors(l,r,k):\n",
    "    count=0\n",
    "    for i in range(l,r+1):\n",
    "        if i%k==0:\n",
    "            count=count+1\n",
    "    return count\n",
    "\n",
    "li=input().split()\n",
    "l=int(li[0])\n",
    "r=int(li[1])\n",
    "k=int(li[2])\n",
    "print(countdivisors(l,r,k))"
   ]
  },
  {
   "cell_type": "code",
   "execution_count": 12,
   "metadata": {},
   "outputs": [
    {
     "name": "stdout",
     "output_type": "stream",
     "text": [
      "5\n",
      "120\n"
     ]
    }
   ],
   "source": [
    "def factorial(N):\n",
    "    fact=1\n",
    "    for i in range(1,N+1):\n",
    "        fact=fact*i\n",
    "    return fact\n",
    "N=int(input())\n",
    "print(factorial(N))"
   ]
  },
  {
   "cell_type": "code",
   "execution_count": 1,
   "metadata": {},
   "outputs": [
    {
     "name": "stdout",
     "output_type": "stream",
     "text": [
      "amma\n",
      "YES\n"
     ]
    }
   ],
   "source": [
    "def palindrome(str):\n",
    "    if str==str[::-1]:\n",
    "        return 'YES'\n",
    "    else:\n",
    "        return 'NO'\n",
    "str=input()\n",
    "print(palindrome(str))"
   ]
  },
  {
   "cell_type": "code",
   "execution_count": 5,
   "metadata": {},
   "outputs": [
    {
     "data": {
      "text/plain": [
       "26"
      ]
     },
     "execution_count": 5,
     "metadata": {},
     "output_type": "execute_result"
    }
   ],
   "source": [
    "ord('z')-96"
   ]
  },
  {
   "cell_type": "code",
   "execution_count": 11,
   "metadata": {},
   "outputs": [
    {
     "name": "stdout",
     "output_type": "stream",
     "text": [
      "saTYa\n",
      "SAtyA"
     ]
    }
   ],
   "source": [
    "def ToogleString(n):\n",
    "    for i in n:\n",
    "        if i==i.upper():\n",
    "            s=i.lower()\n",
    "        elif i==i.lower():\n",
    "            s=i.upper()\n",
    "        print(s,end=\"\")\n",
    "n=input()\n",
    "ToogleString(n)\n",
    "        "
   ]
  },
  {
   "cell_type": "code",
   "execution_count": 12,
   "metadata": {},
   "outputs": [
    {
     "name": "stdout",
     "output_type": "stream",
     "text": [
      "9\n",
      "2 3 5 7 "
     ]
    }
   ],
   "source": [
    "def primenumbersuptoN(n):\n",
    "    for i in range(1,n+1):\n",
    "        count=0\n",
    "        for j in range(1,i+1):\n",
    "            if(i%j==0):\n",
    "                count=count+1\n",
    "        if(count==2):\n",
    "            print(i,end=\" \")\n",
    "n=int(input())\n",
    "primenumbersuptoN(n)"
   ]
  },
  {
   "cell_type": "code",
   "execution_count": 13,
   "metadata": {},
   "outputs": [
    {
     "name": "stdout",
     "output_type": "stream",
     "text": [
      "3\n",
      "sumit mitsu\n",
      "YES\n",
      "ambuj abujm\n",
      "YES\n",
      "jifj reiyop\n",
      "NO\n"
     ]
    }
   ],
   "source": [
    "n=int(input())\n",
    "def Twostrings(s1,s2):\n",
    "    flag=1\n",
    "    if len(s1)!=len(s2):\n",
    "        return 'NO'\n",
    "    else:\n",
    "        for i in range(len(s1)):\n",
    "            if s1.count(s1[i])!=s2.count(s1[i]):\n",
    "                return 'NO'\n",
    "        if flag==1:\n",
    "            return 'YES'\n",
    "        \n",
    "for i in range(n):\n",
    "    str=input().split()\n",
    "    s1=str[0]\n",
    "    s2=str[1]\n",
    "    print(Twostrings(s1,s2))\n",
    "            "
   ]
  },
  {
   "cell_type": "code",
   "execution_count": 1,
   "metadata": {},
   "outputs": [
    {
     "name": "stdout",
     "output_type": "stream",
     "text": [
      "2\n",
      "1 44 2 14\n",
      "0 30\n",
      "2 42 8 23\n",
      "5 41\n"
     ]
    }
   ],
   "source": [
    "def timedifference(h1,m1,h2,m2):\n",
    "    a=(h1*60)+m1\n",
    "    b=(h2*60)+m2\n",
    "    c=b-a\n",
    "    d=c//60\n",
    "    e=c%60\n",
    "    print(d,end=\" \")\n",
    "    print(e,end=\"\\n\")\n",
    "n=int(input())\n",
    "for i in range(n):\n",
    "    s=input().split()\n",
    "    h1=int(s[0])\n",
    "    m1=int(s[1])\n",
    "    h2=int(s[2])\n",
    "    m2=int(s[3])\n",
    "    timedifference(h1,m1,h2,m2)"
   ]
  },
  {
   "cell_type": "code",
   "execution_count": 2,
   "metadata": {},
   "outputs": [
    {
     "name": "stdout",
     "output_type": "stream",
     "text": [
      "aba\n",
      "4\n"
     ]
    }
   ],
   "source": [
    "def charsum(str):\n",
    "    sum=0\n",
    "    for i in str:\n",
    "        sum=sum+(ord(i)-96)\n",
    "    print(sum)\n",
    "str=input()\n",
    "charsum(str)\n",
    "        "
   ]
  },
  {
   "cell_type": "code",
   "execution_count": null,
   "metadata": {},
   "outputs": [],
   "source": [
    "n,q=map(int,input().split())\n",
    "arr=input().split()\n",
    "li=[]\n",
    "for i in arr:\n",
    "    li.append(int(i))\n",
    "for i in range(q):\n",
    "    l,r=map(int,input().split())\n",
    "    print(sum(li[l-1:r])//(r+1-l))"
   ]
  },
  {
   "cell_type": "code",
   "execution_count": null,
   "metadata": {},
   "outputs": [],
   "source": []
  }
 ],
 "metadata": {
  "kernelspec": {
   "display_name": "Python 3",
   "language": "python",
   "name": "python3"
  }
 },
 "nbformat": 4,
 "nbformat_minor": 2
}
