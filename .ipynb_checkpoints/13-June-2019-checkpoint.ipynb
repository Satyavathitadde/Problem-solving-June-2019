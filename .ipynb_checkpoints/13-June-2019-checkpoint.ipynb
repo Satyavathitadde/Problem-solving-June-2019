{
 "cells": [
  {
   "cell_type": "code",
   "execution_count": 1,
   "metadata": {},
   "outputs": [
    {
     "name": "stdout",
     "output_type": "stream",
     "text": [
      "500 502 504 506 508 510 512 514 516 518 520 522 524 "
     ]
    }
   ],
   "source": [
    "# Function to print the alternate values in a range\n",
    "# [500,550] inclusive set 500 502 504........550\n",
    "#(500,550)exclusive set 501 503 505 ......549\n",
    "# range(500,550)500 501 502................549\n",
    "# for all set based functions in python have start value is inclusive an end value is exclusive\n",
    "def alternatevalues(start,end):\n",
    "    for i in range(start,end+1,2):\n",
    "        print(i,end=\" \")\n",
    "    return\n",
    "alternatevalues(500,525)"
   ]
  },
  {
   "cell_type": "code",
   "execution_count": 2,
   "metadata": {},
   "outputs": [
    {
     "name": "stdout",
     "output_type": "stream",
     "text": [
      "525 524 523 522 521 520 519 518 517 516 515 514 513 512 511 510 509 508 507 506 505 504 503 502 501 500 "
     ]
    }
   ],
   "source": [
    "# Function to print reverse of given range in the same\n",
    "\n",
    "def reverserange(start,end):\n",
    "    for i in range(end,start-1,-1):\n",
    "        print(i,end=\" \")\n",
    "    return\n",
    "reverserange(500,525)"
   ]
  },
  {
   "cell_type": "code",
   "execution_count": 3,
   "metadata": {},
   "outputs": [
    {
     "name": "stdout",
     "output_type": "stream",
     "text": [
      "129 127 125 123 "
     ]
    }
   ],
   "source": [
    "# Function to print the odd numbers in reverse order in a range\n",
    "\n",
    "def reverseorder(start,end):\n",
    "    for i in range(end,start-1,-1):\n",
    "        if i%2!=0:\n",
    "            print(i,end=\" \")\n",
    "    return\n",
    "reverseorder(123,130)"
   ]
  },
  {
   "cell_type": "code",
   "execution_count": 4,
   "metadata": {},
   "outputs": [
    {
     "data": {
      "text/plain": [
       "15"
      ]
     },
     "execution_count": 4,
     "metadata": {},
     "output_type": "execute_result"
    }
   ],
   "source": [
    "# Function to calculate the sum of numbers in a range\n",
    "\n",
    "def sumofnumbers(lb,ub):\n",
    "    sum=0\n",
    "    for i in range(lb,ub+1):\n",
    "        sum=sum+i\n",
    "    return sum\n",
    "sumofnumbers(1,5)"
   ]
  },
  {
   "cell_type": "code",
   "execution_count": 5,
   "metadata": {},
   "outputs": [
    {
     "data": {
      "text/plain": [
       "3000.0"
      ]
     },
     "execution_count": 5,
     "metadata": {},
     "output_type": "execute_result"
    }
   ],
   "source": [
    "# Function to calculate the average of a given range\n",
    "\n",
    "def averageofrange(lb,ub):\n",
    "    sum=0\n",
    "    count=0\n",
    "    for i in range(lb,ub+1):\n",
    "        sum=sum+i\n",
    "        count=count+1 \n",
    "    return sum/count\n",
    "averageofrange(1000, 5000)"
   ]
  },
  {
   "cell_type": "code",
   "execution_count": 6,
   "metadata": {},
   "outputs": [
    {
     "data": {
      "text/plain": [
       "True"
      ]
     },
     "execution_count": 6,
     "metadata": {},
     "output_type": "execute_result"
    }
   ],
   "source": [
    "# Function to check if a given year is leap year\n",
    "def isleapyear(year):\n",
    "    if year%400==0 or (year%100!=0 and year%4==0):\n",
    "        return True\n",
    "    else:\n",
    "        return False\n",
    "isleapyear(2020)"
   ]
  },
  {
   "cell_type": "code",
   "execution_count": 7,
   "metadata": {},
   "outputs": [
    {
     "name": "stdout",
     "output_type": "stream",
     "text": [
      "2000 2004 2008 2012 2016 2020 "
     ]
    }
   ],
   "source": [
    "# Function to print leap years in a given range\n",
    "\n",
    "\n",
    "\n",
    "def isleapyear(year):\n",
    "    if year%400==0 or (year%100!=0 and year%4==0):\n",
    "        return True\n",
    "    else:\n",
    "        return False\n",
    "def generateleapyear(start,end):\n",
    "    for year in range(start,end+1):\n",
    "        if isleapyear(year):\n",
    "            print(year,end=\" \")\n",
    "    return\n",
    "generateleapyear(2000,2020)"
   ]
  },
  {
   "cell_type": "code",
   "execution_count": 8,
   "metadata": {},
   "outputs": [
    {
     "data": {
      "text/plain": [
       "1096"
      ]
     },
     "execution_count": 8,
     "metadata": {},
     "output_type": "execute_result"
    }
   ],
   "source": [
    "# calculate number of days ina given time period using  leap year logic\n",
    "# For given time period,if the year is not a leap year->add 365 to sum,if the year is leap year->add 366 to sum\n",
    "\n",
    "def Numberofdays(start,end):\n",
    "    sum=0\n",
    "    for year in range(start,end+1):\n",
    "        if isleapyear(year):\n",
    "            sum=sum+366\n",
    "        else:\n",
    "            sum=sum+365\n",
    "    return sum\n",
    "Numberofdays(2000,2002)"
   ]
  },
  {
   "cell_type": "code",
   "execution_count": 43,
   "metadata": {},
   "outputs": [
    {
     "data": {
      "text/plain": [
       "10224"
      ]
     },
     "execution_count": 43,
     "metadata": {},
     "output_type": "execute_result"
    }
   ],
   "source": [
    "# Function to calculate number of hours in a given period\n",
    "#numberofHours(11,1975,3,1999)->>\n",
    "#numberofHours(5,2019,6,2019)->>\n",
    "\n",
    "2,2017,6,2019\n",
    "#No of hours=24*No of days\n",
    "# 3 steps\n",
    "#1.start month year to end of year-calculate no of days\n",
    "#2.calculate days for all years between start year and end year\n",
    "#3.calculate days from Jan to end month\n",
    "\n",
    "def numberofdaymonth(month,year):\n",
    "    if month==2:\n",
    "        if isleapyear(year):\n",
    "            return True\n",
    "        else:\n",
    "            return 28\n",
    "    elif (month<=7 and month%2!=0) or (month>=8 and month%2==0):\n",
    "        return 31\n",
    "    else:\n",
    "        return 30\n",
    "def daysinstartyear(startmonth,startyear):\n",
    "    days=0\n",
    "    for month in range(startmonth,13):\n",
    "        days=days+numberofdaymonth(month,startyear)\n",
    "    return days\n",
    "def daysinendyear(endmonth,endyear):\n",
    "    days=0\n",
    "    for month in range(1,endmonth+1):\n",
    "        days=days+numberofdaymonth(month,endyear)\n",
    "    return days\n",
    "\n",
    "def numberofHours(startmonth,startyear,endmonth,endyear):\n",
    "    days=0\n",
    "    days=days+daysinstartyear(startmonth,startyear)\n",
    "    days=days+daysinendyear(endmonth,endyear)\n",
    "    if endyear-startyear==1:\n",
    "        days=days+Numberofdays(startyear+1,startyear+1)\n",
    "    elif endyear-startyear>2:\n",
    "        days=days+Numberofdays(startyear+1,endyear-1)\n",
    "    return 24*days\n",
    "numberofHours(6,2018,7,2018)"
   ]
  },
  {
   "cell_type": "code",
   "execution_count": null,
   "metadata": {},
   "outputs": [],
   "source": []
  },
  {
   "cell_type": "markdown",
   "metadata": {},
   "source": [
    "Advanced Problem Set( Optional )\n",
    "- Function to calculate average of all factorials in a given range\n",
    "- Function to generate N odd armstrong numbers \n",
    "- Function to generate Multiplication table for a number in a given range\n",
    "    - 10 in the range(100, 102) inclusive\n",
    "    - 10 x 100 = 1000\n",
    "    - 10 x 101 = 1010\n",
    "    - 10 x 102 = 1020"
   ]
  },
  {
   "cell_type": "code",
   "execution_count": 15,
   "metadata": {},
   "outputs": [
    {
     "data": {
      "text/plain": [
       "30.6"
      ]
     },
     "execution_count": 15,
     "metadata": {},
     "output_type": "execute_result"
    }
   ],
   "source": [
    "# Function to calculate average of all factorials in a given range\n",
    "\n",
    "def factorialofnumber(n):\n",
    "    x=1\n",
    "    sum=0\n",
    "    count=0\n",
    "    for i in range(1,n+1):\n",
    "        x=x*i\n",
    "        sum=sum+x\n",
    "        count=count+1\n",
    "    return sum/count\n",
    "factorialofnumber(5)"
   ]
  },
  {
   "cell_type": "code",
   "execution_count": 16,
   "metadata": {},
   "outputs": [
    {
     "name": "stdout",
     "output_type": "stream",
     "text": [
      "Enter n: 3\n",
      "153\n",
      "370\n",
      "371\n",
      "407\n"
     ]
    },
    {
     "data": {
      "text/plain": [
       "931"
      ]
     },
     "execution_count": 16,
     "metadata": {},
     "output_type": "execute_result"
    }
   ],
   "source": [
    "# Function to generate N odd armstrong numbers \n",
    "\n",
    "n=int(input(\"Enter n: \"))\n",
    "def isAmstrong(j):\n",
    "    x=j\n",
    "    k=0\n",
    "    while j!=0:\n",
    "        r=j%10\n",
    "        k=k+r**len(str(x))\n",
    "        j//=10\n",
    "     \n",
    "    if x == k:\n",
    "        print(x)\n",
    "        return True\n",
    "    else:\n",
    "        return False\n",
    "#isAmstrong(n)\n",
    "def NoddArmstrong(n):\n",
    "    sum=0\n",
    "    i=0\n",
    "    j=120\n",
    "    while i<n:\n",
    "        y=isAmstrong(j)\n",
    "        #print(y,j)\n",
    "        if y==True and j%2!=0:\n",
    "            sum+=j\n",
    "            i+=1\n",
    "        j+=1\n",
    "    return sum\n",
    "NoddArmstrong(n)"
   ]
  },
  {
   "cell_type": "code",
   "execution_count": 20,
   "metadata": {},
   "outputs": [
    {
     "name": "stdout",
     "output_type": "stream",
     "text": [
      "1000\n",
      "1010\n",
      "1020\n"
     ]
    }
   ],
   "source": [
    "# Function to generate Multiplication table for a number in a given range\n",
    "    # 10 in the range(100, 102) inclusive\n",
    "    # 10 x 100 = 1000\n",
    "    # 10 x 101 = 1010\n",
    "    # 10 x 102 = 1020\n",
    "\n",
    "\n",
    "def multiplication(start,end):\n",
    "    for i in range(start, end+1):\n",
    "        table = 10 * i\n",
    "        print(table)\n",
    "    return\n",
    "        \n",
    "        \n",
    "multiplication(100,102)\n",
    "\n",
    "\n"
   ]
  },
  {
   "cell_type": "code",
   "execution_count": null,
   "metadata": {},
   "outputs": [],
   "source": []
  },
  {
   "cell_type": "code",
   "execution_count": null,
   "metadata": {},
   "outputs": [],
   "source": []
  }
 ],
 "metadata": {
  "kernelspec": {
   "display_name": "Python 3",
   "language": "python",
   "name": "python3"
  },
  "language_info": {
   "codemirror_mode": {
    "name": "ipython",
    "version": 3
   },
   "file_extension": ".py",
   "mimetype": "text/x-python",
   "name": "python",
   "nbconvert_exporter": "python",
   "pygments_lexer": "ipython3",
   "version": "3.7.3"
  }
 },
 "nbformat": 4,
 "nbformat_minor": 2
}
