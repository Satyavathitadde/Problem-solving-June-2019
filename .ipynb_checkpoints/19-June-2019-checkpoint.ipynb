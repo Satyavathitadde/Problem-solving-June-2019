{
 "cells": [
  {
   "cell_type": "markdown",
   "metadata": {},
   "source": [
    "### Practiced Hackerearth Problems"
   ]
  },
  {
   "cell_type": "code",
   "execution_count": 8,
   "metadata": {},
   "outputs": [
    {
     "name": "stdout",
     "output_type": "stream",
     "text": [
      "1\n",
      "cde\n",
      "abc\n",
      "4\n"
     ]
    }
   ],
   "source": [
    "# Anagram\n",
    "\n",
    "n=int(input())\n",
    "for i in range(0,n):\n",
    "    a=input()\n",
    "    b=input()\n",
    "    l1=[]\n",
    "    l2=[]\n",
    "    l=[]\n",
    "    temp=ord('a')\n",
    "    for i in range(0,26):\n",
    "        l1.append(a.count(chr(temp)))\n",
    "        l2.append(b.count(chr(temp)))\n",
    "        temp=temp+1\n",
    "    for j in range(0,26):\n",
    "        l.append(abs(l2[j]-l1[j]))\n",
    "    print(sum(l))\n",
    "    \n",
    "    \n",
    "    \n",
    "    \n",
    "    "
   ]
  },
  {
   "cell_type": "code",
   "execution_count": 3,
   "metadata": {},
   "outputs": [
    {
     "name": "stdout",
     "output_type": "stream",
     "text": [
      "5\n",
      "100\n",
      "110\n",
      "YES\n",
      "130\n",
      "YES\n",
      "90\n",
      "NO\n",
      "100\n",
      "YES\n",
      "45\n",
      "NO\n"
     ]
    }
   ],
   "source": [
    "# Goki and his Breakup\n",
    "\n",
    "def GokiBreakup(y):\n",
    "    if y>=x:\n",
    "        print(\"YES\")\n",
    "    else:\n",
    "        print(\"NO\")\n",
    "n=int(input())\n",
    "x=int(input())\n",
    "for i in range(1,n+1):\n",
    "    y=int(input())\n",
    "    \n",
    "    GokiBreakup(y)"
   ]
  },
  {
   "cell_type": "code",
   "execution_count": 2,
   "metadata": {},
   "outputs": [
    {
     "name": "stdout",
     "output_type": "stream",
     "text": [
      "180\n",
      "3\n",
      "640 480\n",
      "CROP IT\n",
      "120 300\n",
      "UPLOAD ANOTHER\n",
      "180 180\n",
      "ACCEPTED\n"
     ]
    }
   ],
   "source": [
    "# Roy and his profile picture\n",
    "\n",
    "def royandprofilepicture(w,h,l):\n",
    "    if (w<l or h<l):                               \n",
    "        return \"UPLOAD ANOTHER\"\n",
    "    elif (w==h):\n",
    "        return \"ACCEPTED\"\n",
    "    else:\n",
    "        return \"CROP IT\"\n",
    "        \n",
    "l=int(input())\n",
    "n=int(input())\n",
    "for i in range(1,n+1):\n",
    "    n=input().split()\n",
    "    w,h=int(n[0]),int(n[1])\n",
    "    print(royandprofilepicture(w,h,l))"
   ]
  },
  {
   "cell_type": "code",
   "execution_count": 5,
   "metadata": {},
   "outputs": [
    {
     "name": "stdout",
     "output_type": "stream",
     "text": [
      "3\n",
      "3\n",
      "2 1\n",
      "1 2\n",
      "2 9\n",
      "4\n",
      "1\n",
      "8 1\n",
      "8\n",
      "3\n",
      "2 5\n",
      "1 4\n",
      "1 5\n",
      "1\n"
     ]
    }
   ],
   "source": [
    "# Recursive sums\n",
    "\n",
    "def recursivesums():\n",
    "    ntest=int(input())\n",
    "    total=0\n",
    "    for j in range(ntest):\n",
    "        d=input().split()\n",
    "        a=int(d[0])\n",
    "        b=int(d[1])\n",
    "        total=total+a*b\n",
    "    if total<=9:\n",
    "        return total\n",
    "    else:\n",
    "        while total>9:\n",
    "            check=list(str(total))\n",
    "            check=[int(x) for x in check]\n",
    "            total=sum(check)\n",
    "        return total\n",
    "n=int(input())\n",
    "for a in range(n):\n",
    "    print(recursivesums())\n",
    "    \n"
   ]
  },
  {
   "cell_type": "code",
   "execution_count": 1,
   "metadata": {},
   "outputs": [
    {
     "name": "stdout",
     "output_type": "stream",
     "text": [
      "12X-345-67\n",
      "invalid\n"
     ]
    }
   ],
   "source": [
    "# Ali and helping innocent people\n",
    "\n",
    "s=input()\n",
    "if len(s)>9:\n",
    "    print(\"invalid\")\n",
    "else:\n",
    "    if (s[2]!=\"A\" and s[2]!=\"E\"  and s[2]!=\"I\" and s[2]!=\"O\"  and s[2]!=\"U\" and s[2]!=\"Y\"):\n",
    "        if ((int(s[0])+int(s[1]))%2==0 and (int(s[3])+int(s[4]))%2==0 and (int(s[4])+int(s[5]))%2==0 and (int(s[7])+int(s[8]))%2==0):\n",
    "            print(\"valid\")\n",
    "        else:\n",
    "            print(\"invalid\")\n",
    "    else:\n",
    "        print(\"invalid\")\n"
   ]
  },
  {
   "cell_type": "code",
   "execution_count": 2,
   "metadata": {},
   "outputs": [
    {
     "name": "stdout",
     "output_type": "stream",
     "text": [
      "1\n",
      "1\n",
      "2\n",
      "2\n",
      "88\n",
      "88\n",
      "42\n"
     ]
    }
   ],
   "source": [
    "#Life,the universe,and everything\n",
    "\n",
    "while(1):\n",
    "    n=int(input())\n",
    "    if(n==42):\n",
    "        break\n",
    "    else:\n",
    "        print(n)"
   ]
  },
  {
   "cell_type": "code",
   "execution_count": null,
   "metadata": {},
   "outputs": [],
   "source": []
  }
 ],
 "metadata": {
  "kernelspec": {
   "display_name": "Python 3",
   "language": "python",
   "name": "python3"
  },
  "language_info": {
   "codemirror_mode": {
    "name": "ipython",
    "version": 3
   },
   "file_extension": ".py",
   "mimetype": "text/x-python",
   "name": "python",
   "nbconvert_exporter": "python",
   "pygments_lexer": "ipython3",
   "version": "3.7.3"
  }
 },
 "nbformat": 4,
 "nbformat_minor": 2
}
