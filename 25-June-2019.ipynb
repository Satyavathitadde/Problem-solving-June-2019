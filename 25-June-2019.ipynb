{
 "cells": [
  {
   "cell_type": "code",
   "execution_count": 5,
   "metadata": {},
   "outputs": [
    {
     "name": "stdout",
     "output_type": "stream",
     "text": [
      "4546\n",
      "19\n"
     ]
    }
   ],
   "source": [
    "n=input()\n",
    "def sumofdigits(n):\n",
    "    sum=0\n",
    "    li=[]\n",
    "    for i in n:\n",
    "        sum=sum+int(i)\n",
    "    print(sum)\n",
    "sumofdigits(n)\n"
   ]
  },
  {
   "cell_type": "code",
   "execution_count": 10,
   "metadata": {},
   "outputs": [
    {
     "name": "stdout",
     "output_type": "stream",
     "text": [
      "12545\n",
      "17\n"
     ]
    }
   ],
   "source": [
    "\n",
    "n=int(input())\n",
    "sum=0\n",
    "while(n>0):\n",
    "    rem=n%10\n",
    "    sum=sum+rem\n",
    "    n=n//10\n",
    "print(sum)\n"
   ]
  },
  {
   "cell_type": "code",
   "execution_count": 37,
   "metadata": {},
   "outputs": [
    {
     "name": "stdout",
     "output_type": "stream",
     "text": [
      "0 4 1 1 1 1 1 0 0 0 "
     ]
    }
   ],
   "source": [
    "# s=a11472o5t6\n",
    "\n",
    "def uniqueData(allnumbers):\n",
    "    unique=[]\n",
    "    for n in allnumbers:\n",
    "        if n not in unique:\n",
    "            unique.append(n)\n",
    "    return unique\n",
    "\n",
    "def digitfrequency1(s):\n",
    "    allnumbers=[]\n",
    "    for i in s:\n",
    "        if i.isdigit():\n",
    "            allnumbers.append(i)\n",
    "    un=uniqueData(allnumbers)\n",
    "    for i in range(0,10):\n",
    "        if str(i) not in un:\n",
    "            print(0,end=' ')\n",
    "        else:\n",
    "            count=allnumbers.count(str(i))\n",
    "            print(count,end=' ')\n",
    "            \n",
    "digitfrequency1('213abc456def111')\n",
    "\n",
    "\n",
    "\n",
    "        \n",
    "    \n",
    "        \n",
    "    \n"
   ]
  },
  {
   "cell_type": "code",
   "execution_count": 39,
   "metadata": {},
   "outputs": [
    {
     "name": "stdout",
     "output_type": "stream",
     "text": [
      "0 4 1 1 1 1 1 0 0 0 "
     ]
    }
   ],
   "source": [
    "# Another model for solving of frequency distribution \n",
    "\n",
    "def frequencydistribution(s):\n",
    "    for i in range(0,10):\n",
    "        count=s.count(str(i))\n",
    "        print(count,end=\" \")\n",
    "frequencydistribution('213abc456def111')\n",
    "\n",
    "\n",
    "\n"
   ]
  },
  {
   "cell_type": "code",
   "execution_count": null,
   "metadata": {},
   "outputs": [],
   "source": []
  },
  {
   "cell_type": "markdown",
   "metadata": {},
   "source": [
    "### Find and Replace Application\n",
    "\n",
    "- Check if a word is existing in a file\n",
    "    - wordExists(filepath,word)\n",
    "- Count the total number of occurances of a word in a file\n",
    "    - CountWordoccurances(filepath,word)\n",
    "- Replace all occurances of a word in a file\n",
    "    - replaceWord(filepath,word)\n",
    "    \n",
    "    \n",
    "### Marks Analysis Report\n",
    "- Generate Marks\n",
    "    - generateMarks(n,lb,ub)\n",
    "- Generate a report of the following\n",
    "    - Class Average - classAverage(filepath)\n",
    "    - % of students passed-passpercentage(filepath)\n",
    "    - % of students failed-failpercentage(filepath)\n",
    "    - Distinction\n",
    "    - Frequency of Highest Marks\n",
    "    - Frequency of Lowest Marks\n",
    "    - GenerateReport(filepath):\n",
    "\n",
    "\n"
   ]
  },
  {
   "cell_type": "code",
   "execution_count": null,
   "metadata": {},
   "outputs": [],
   "source": [
    "\n",
    "    "
   ]
  },
  {
   "cell_type": "code",
   "execution_count": 47,
   "metadata": {},
   "outputs": [
    {
     "name": "stdout",
     "output_type": "stream",
     "text": [
      "30 Marks stored in file Successfully\n"
     ]
    }
   ],
   "source": [
    "# Function to Generation of Marks\n",
    "\n",
    "from random import randint\n",
    "def GenerateMarks(n,lb,ub):\n",
    "    filepath='Data\\marks.txt'\n",
    "    with open(filepath,'w') as f:\n",
    "        for i in range(0,n):\n",
    "            r=randint(lb,ub)\n",
    "            f.write(str(r)+'\\n')\n",
    "    print(n,\"Marks stored in file Successfully\")\n",
    "GenerateMarks(30,1,100)\n",
    "    \n",
    "    \n",
    "   "
   ]
  },
  {
   "cell_type": "code",
   "execution_count": 48,
   "metadata": {},
   "outputs": [
    {
     "data": {
      "text/plain": [
       "59.86666666666667"
      ]
     },
     "execution_count": 48,
     "metadata": {},
     "output_type": "execute_result"
    }
   ],
   "source": [
    "# Function to generate class average\n",
    "\n",
    "def classAverage(filepath):\n",
    "    sum=0\n",
    "    count=0\n",
    "    with open(filepath,'r') as f:\n",
    "        for i in f:\n",
    "            sum=sum+int(i)\n",
    "            count=count+1\n",
    "    return sum/count\n",
    "classAverage('Data/marks.txt')\n",
    "    "
   ]
  },
  {
   "cell_type": "code",
   "execution_count": 49,
   "metadata": {},
   "outputs": [
    {
     "data": {
      "text/plain": [
       "90.0"
      ]
     },
     "execution_count": 49,
     "metadata": {},
     "output_type": "execute_result"
    }
   ],
   "source": [
    "# Function to calculate the percentage of passed students\n",
    "\n",
    "def passpercentage(filepath):\n",
    "    count=0\n",
    "    mc=0\n",
    "    with open(filepath,'r') as f:\n",
    "        for i in f:\n",
    "            mc=mc+1\n",
    "            if(int(i)>=35):\n",
    "                count=count+1\n",
    "        return (count/mc)*100\n",
    "passpercentage('Data/marks.txt')\n",
    "\n",
    "                \n",
    "                \n",
    "    "
   ]
  },
  {
   "cell_type": "code",
   "execution_count": 50,
   "metadata": {},
   "outputs": [
    {
     "data": {
      "text/plain": [
       "10.0"
      ]
     },
     "execution_count": 50,
     "metadata": {},
     "output_type": "execute_result"
    }
   ],
   "source": [
    "# Function to calculate the percentage of failed students\n",
    "\n",
    "def Failedpercentage(filepath):\n",
    "    count=0\n",
    "    mc=0\n",
    "    with open(filepath,'r') as f:\n",
    "        for i in f:\n",
    "            mc=mc+1\n",
    "            if(int(i)<35):\n",
    "                count=count+1\n",
    "        return (count/mc)*100\n",
    "Failedpercentage('Data/marks.txt')\n"
   ]
  },
  {
   "cell_type": "code",
   "execution_count": 45,
   "metadata": {},
   "outputs": [
    {
     "data": {
      "text/plain": [
       "33.33333333333333"
      ]
     },
     "execution_count": 45,
     "metadata": {},
     "output_type": "execute_result"
    }
   ],
   "source": [
    "# Function to calculate the  % of distinction of students\n",
    "\n",
    "def DistinctionPercentage(filepath):\n",
    "    count=0\n",
    "    mc=0\n",
    "    with open(filepath,'r') as f:\n",
    "        for i in f:\n",
    "            mc=mc+1\n",
    "            if(int(i)>=75):\n",
    "                count=count+1\n",
    "        return (count/mc)*100\n",
    "DistinctionPercentage('Data/marks.txt')"
   ]
  },
  {
   "cell_type": "code",
   "execution_count": null,
   "metadata": {},
   "outputs": [],
   "source": []
  },
  {
   "cell_type": "code",
   "execution_count": 51,
   "metadata": {},
   "outputs": [
    {
     "data": {
      "text/plain": [
       "1"
      ]
     },
     "execution_count": 51,
     "metadata": {},
     "output_type": "execute_result"
    }
   ],
   "source": [
    "# Function to calculate the frequency of Highest Marks\n",
    "def FrequencyHighestMarks(filepath):\n",
    "    with open(filepath,'r') as f:\n",
    "        sp=f.read().split()\n",
    "        sp=list(map(int,sp))\n",
    "        #print(max(sp))\n",
    "        return sp.count(max(sp))\n",
    "        \n",
    "FrequencyHighestMarks('Data/marks.txt')\n",
    "        \n",
    "\n"
   ]
  },
  {
   "cell_type": "code",
   "execution_count": 52,
   "metadata": {},
   "outputs": [
    {
     "data": {
      "text/plain": [
       "1"
      ]
     },
     "execution_count": 52,
     "metadata": {},
     "output_type": "execute_result"
    }
   ],
   "source": [
    "# Function to calculate the frequency of Lowest Marks\n",
    "\n",
    "def FrequencyLowestMarks(filepath):\n",
    "    with open(filepath,'r') as f:\n",
    "        sp=f.read().split()\n",
    "        sp=list(map(int,sp))\n",
    "        #print(min(sp))\n",
    "        return sp.count(min(sp))\n",
    "        \n",
    "FrequencyLowestMarks('Data/marks.txt')\n",
    "        "
   ]
  },
  {
   "cell_type": "code",
   "execution_count": 65,
   "metadata": {},
   "outputs": [
    {
     "name": "stdout",
     "output_type": "stream",
     "text": [
      "Choose Option:\n",
      " 1).Generation Marks:\n",
      " 2).Class Average:\n",
      " 3).passed percentage:\n",
      " 4).failed percentage:\n",
      " 5).distinction percetage:\n",
      " 6).highest frequency:\n",
      " 7).lowest percentage:\n",
      "2\n",
      "54.92\n",
      "Choose Option:\n",
      " 1).Generation Marks:\n",
      " 2).Class Average:\n",
      " 3).passed percentage:\n",
      " 4).failed percentage:\n",
      " 5).distinction percetage:\n",
      " 6).highest frequency:\n",
      " 7).lowest percentage:\n",
      "3\n",
      "72.0\n",
      "Choose Option:\n",
      " 1).Generation Marks:\n",
      " 2).Class Average:\n",
      " 3).passed percentage:\n",
      " 4).failed percentage:\n",
      " 5).distinction percetage:\n",
      " 6).highest frequency:\n",
      " 7).lowest percentage:\n",
      "4\n",
      "28.000000000000004\n",
      "Choose Option:\n",
      " 1).Generation Marks:\n",
      " 2).Class Average:\n",
      " 3).passed percentage:\n",
      " 4).failed percentage:\n",
      " 5).distinction percetage:\n",
      " 6).highest frequency:\n",
      " 7).lowest percentage:\n",
      "5\n",
      "26.0\n",
      "Choose Option:\n",
      " 1).Generation Marks:\n",
      " 2).Class Average:\n",
      " 3).passed percentage:\n",
      " 4).failed percentage:\n",
      " 5).distinction percetage:\n",
      " 6).highest frequency:\n",
      " 7).lowest percentage:\n",
      "6\n",
      "2\n",
      "Choose Option:\n",
      " 1).Generation Marks:\n",
      " 2).Class Average:\n",
      " 3).passed percentage:\n",
      " 4).failed percentage:\n",
      " 5).distinction percetage:\n",
      " 6).highest frequency:\n",
      " 7).lowest percentage:\n",
      "7\n",
      "1\n",
      "Choose Option:\n",
      " 1).Generation Marks:\n",
      " 2).Class Average:\n",
      " 3).passed percentage:\n",
      " 4).failed percentage:\n",
      " 5).distinction percetage:\n",
      " 6).highest frequency:\n",
      " 7).lowest percentage:\n",
      "8\n"
     ]
    }
   ],
   "source": [
    "def marksAnalysis(filepath):\n",
    "    while True:\n",
    "        n=int(input(\"Choose Option:\\n 1).Generation Marks:\\n 2).Class Average:\\n 3).passed percentage:\\n 4).failed percentage:\\n 5).distinction percetage:\\n 6).highest frequency:\\n 7).lowest percentage:\\n\"))\n",
    "        if(n==1):\n",
    "            st=int(input(\"Enter number of student marks\"))\n",
    "            GenerateMarks(st,1,100)\n",
    "        elif(n==2):\n",
    "            print(classAverage(filepath))\n",
    "        elif(n==3):\n",
    "            print(passpercentage(filepath))\n",
    "        elif(n==4):\n",
    "            print(Failedpercentage(filepath))\n",
    "        elif(n==5):\n",
    "            print(DistinctionPercentage(filepath))\n",
    "        elif(n==6):\n",
    "            print(FrequencyHighestMarks(filepath))\n",
    "        elif(n==7):\n",
    "            print(FrequencyLowestMarks(filepath))\n",
    "        else:\n",
    "            break\n",
    "marksAnalysis('Data/marks.txt')"
   ]
  },
  {
   "cell_type": "markdown",
   "metadata": {},
   "source": [
    "### Contact Application\n"
   ]
  },
  {
   "cell_type": "code",
   "execution_count": 2,
   "metadata": {},
   "outputs": [],
   "source": [
    "# Function to the application of addcontact\n",
    "def addcontact(name,phone,email):\n",
    "    with open(filepath,'r') as f:\n",
    "        if name in contacts:\n",
    "            print(\"% name is already exist\"%name)\n",
    "        else:\n",
    "            print(\"%add contact successfully\"%name)\n",
    "\n",
    "name=input()\n",
    "phone=input()\n",
    "email=input()\n",
    "\n",
    "addcontact(name,phone,email)\n",
    "            \n",
    "        \n",
    "        \n",
    "    \n",
    "    "
   ]
  },
  {
   "cell_type": "code",
   "execution_count": 1,
   "metadata": {},
   "outputs": [
    {
     "data": {
      "text/plain": [
       "4"
      ]
     },
     "execution_count": 1,
     "metadata": {},
     "output_type": "execute_result"
    }
   ],
   "source": [
    "# Function to check if two strings are anagrams \n",
    "# abc cba->True\n",
    "# {a:1,b:1,c:1} {c:1,a:1.b:1}\n",
    "# abc abc\n",
    "# aabbcc ccbbaaa ->False\n",
    "# aabbcc aaabbcc\n",
    "# {a:2,b:2,c:2} {a:3,b:2,c:2}\n",
    "\n",
    "def checkanagrams(s1,s2):\n",
    "    if len(s1)!=len(s2):\n",
    "        return False\n",
    "    if sorted(s1)==sorted(s2):\n",
    "        return True\n",
    "    return False\n",
    "\n",
    "def charDeletionsAnagrams(s1,s2):\n",
    "    # to collect all uncommon characters-characters in only one string\n",
    "    uncommon=[]\n",
    "    for i in s1:\n",
    "        if i not in s2:\n",
    "            uncommon.append(i)\n",
    "    for i in s2:\n",
    "        if i not in s1:\n",
    "            uncommon.append(i)\n",
    "    count=len(uncommon)\n",
    "    freqs1={}\n",
    "    freqs2={}\n",
    "    uniqs1=[]\n",
    "    uniqs2=[]\n",
    "    \n",
    "    for i in s1:\n",
    "        if i not in uncommon and i not in uniqs1:\n",
    "            freqs1[i]=s1.count(i)\n",
    "            uniqs1.append(i)\n",
    "    for i in s2:\n",
    "        if i not in uncommon and i not in uniqs2:\n",
    "            freqs2[i]=s2.count(i)\n",
    "            uniqs2.append(i)\n",
    "    for key in freqs1.keys():\n",
    "        count+=abs(freqs1[key]-freqs2[key])\n",
    "    return count\n",
    "\n",
    "charDeletionsAnagrams('abc','cde')\n",
    "            \n",
    "        \n",
    "    \n",
    "\n",
    "    \n",
    "    \n"
   ]
  },
  {
   "cell_type": "raw",
   "metadata": {},
   "source": [
    "t=int(input())\n",
    "for i in range(0,t):\n",
    "    s1=sorted(input())\n",
    "    s2=sorted(input())\n",
    "    count=0\n",
    "    for i in s1:\n",
    "        if i not in s2:\n",
    "            count=count+1\n",
    "    for i in s2:\n",
    "        if i not in s1:\n",
    "            count=count+1\n",
    "    print(count)"
   ]
  },
  {
   "cell_type": "code",
   "execution_count": 8,
   "metadata": {},
   "outputs": [
    {
     "data": {
      "text/plain": [
       "-1"
      ]
     },
     "execution_count": 8,
     "metadata": {},
     "output_type": "execute_result"
    }
   ],
   "source": [
    "# {a:4,g:9,i:6,p:213,c:6}\n",
    "\n",
    "def kLargeFrequency(s,k):\n",
    "    # construct the frequency dictionary for all unique characters\n",
    "    unique=[]\n",
    "    freq={}\n",
    "    for i in s:\n",
    "        if i not in freq.keys():\n",
    "            freq[i]=s.count(i)\n",
    "    values=sorted(freq.values(),reverse=True)\n",
    "    uniquevalues=list(set(values))\n",
    "    uniquevalues=sorted(uniquevalues,reverse=True)\n",
    "    if k<len(uniquevalues):\n",
    "        kvalues=uniquevalues[k-1]\n",
    "    else:\n",
    "        return -1\n",
    "    li=[]\n",
    "    for item in freq.items():\n",
    "        if item[1]==kvalues:\n",
    "            li.append(item[0])\n",
    "    return min(li)\n",
    "\n",
    "kLargeFrequency('aabcdcc',3)\n",
    "    \n"
   ]
  },
  {
   "cell_type": "markdown",
   "metadata": {},
   "source": [
    "\n",
    "### Contact Application\n",
    "- addContact(name,phone,email)\n",
    "- Searchcontact(name)\n",
    "- listContacts()\n",
    "- editContact(name,newphone,newemail)\n",
    "- DeleteContact(name)\n",
    "- ContactsAPP()"
   ]
  },
  {
   "cell_type": "code",
   "execution_count": 9,
   "metadata": {},
   "outputs": [],
   "source": [
    "import re\n",
    "\n",
    "def phoneNumberValidator(number):\n",
    "    pattern = '^[6-9][0-9]{9}$|^[0][6-9][0-9]{9}|^[+][9][1][6-9][0-9]{9}$'\n",
    "    if re.match(pattern, str(number)):\n",
    "        return True\n",
    "    return False"
   ]
  },
  {
   "cell_type": "code",
   "execution_count": 10,
   "metadata": {},
   "outputs": [],
   "source": [
    "def emailValidator(email):\n",
    "    pattern = \"^[0-9a-z][0-9a-z_.]{4,13}[0-9a-z][@][a-z0-9]{3,18}[.][a-z]{2,4}$\"\n",
    "    if re.match(pattern, email):\n",
    "        return True\n",
    "    return False"
   ]
  },
  {
   "cell_type": "code",
   "execution_count": 38,
   "metadata": {},
   "outputs": [],
   "source": [
    "def contact_exists(name):\n",
    "    filename='DataFiles/contacts.txt'\n",
    "    with open(filename,'r') as f:\n",
    "        p=name+','\n",
    "        fd=f.read()\n",
    "        return re.search(p,fd)\n",
    "contact_exists(\"name\")"
   ]
  },
  {
   "cell_type": "code",
   "execution_count": 36,
   "metadata": {},
   "outputs": [
    {
     "name": "stdout",
     "output_type": "stream",
     "text": [
      "satya already exists\n"
     ]
    }
   ],
   "source": [
    "def addcontact(name,phone,email):\n",
    "    filepath='DataFiles/contacts.txt'\n",
    "    if not contact_exists(name):\n",
    "        if emailValidator(email) and phoneNumberValidator(phone):\n",
    "            with open(filepath,'a') as f:\n",
    "                line=name+','+str(phone)+','+email+','+'\\n'\n",
    "                f.write(line)\n",
    "            print(name,\"is added to contacts list\")\n",
    "        else:\n",
    "            print('email or phone is invalid')\n",
    "    else:\n",
    "        print(name,\"already exists\")\n",
    "    return\n",
    "addcontact('satya',9876543210,'satyavathitadde@gmail.com')"
   ]
  },
  {
   "cell_type": "code",
   "execution_count": 41,
   "metadata": {},
   "outputs": [
    {
     "data": {
      "text/plain": [
       "['satya', '9876543210', 'satyavathitadde@gmail.com']"
      ]
     },
     "execution_count": 41,
     "metadata": {},
     "output_type": "execute_result"
    }
   ],
   "source": [
    "# Search contact\n",
    "\n",
    "def searchcontact(name):\n",
    "    filepath='DataFiles/contacts.txt'\n",
    "    if contact_exists(name):\n",
    "        with open(filepath,'r') as f:\n",
    "            fd=f.read()\n",
    "            p='[\\n]'\n",
    "            li=re.split(p,fd)\n",
    "            con=[]\n",
    "            for i in range(len(li)):\n",
    "                con=li[i].split(',')\n",
    "                if name in con:\n",
    "                    return con\n",
    "    else:\n",
    "        print(\"contact not exist\")\n",
    "        return\n",
    "searchcontact('satya')"
   ]
  },
  {
   "cell_type": "code",
   "execution_count": 43,
   "metadata": {},
   "outputs": [
    {
     "name": "stdout",
     "output_type": "stream",
     "text": [
      "contact not exist\n"
     ]
    }
   ],
   "source": [
    "def searchcontact2(name):\n",
    "    filepath='DataFiles/contacts.txt'\n",
    "    if contact_exists(name):\n",
    "        with open(filepath,'r') as f:\n",
    "            for i in f:\n",
    "                i=i.split(',')\n",
    "                if i[0]==name:\n",
    "                    print(i[0],i[1],i[2])\n",
    "    else:\n",
    "        print(\"contact not exist\")\n",
    "                \n",
    "searchcontact2('sat')\n",
    "        \n",
    "            \n",
    "            "
   ]
  },
  {
   "cell_type": "code",
   "execution_count": 51,
   "metadata": {},
   "outputs": [
    {
     "name": "stdout",
     "output_type": "stream",
     "text": [
      "['satya,9876543210,satyavathitadde@gmail.com', 'amma,9494330021,amma123@gmail.com']\n"
     ]
    }
   ],
   "source": [
    "# List all contacts\n",
    "\n",
    "def listallcontacts():\n",
    "    filepath='DataFiles/contacts.txt'\n",
    "    with open(filepath,'r') as f:\n",
    "        x=f.read().split()\n",
    "        if len(x)!=0:\n",
    "            print(x)\n",
    "        else:\n",
    "            print(\"empty list of contacts\")\n",
    "        return\n",
    "listallcontacts()\n",
    "            \n",
    "            \n",
    "\n"
   ]
  },
  {
   "cell_type": "code",
   "execution_count": null,
   "metadata": {},
   "outputs": [],
   "source": [
    "# "
   ]
  }
 ],
 "metadata": {
  "kernelspec": {
   "display_name": "Python 3",
   "language": "python",
   "name": "python3"
  },
  "language_info": {
   "codemirror_mode": {
    "name": "ipython",
    "version": 3
   },
   "file_extension": ".py",
   "mimetype": "text/x-python",
   "name": "python",
   "nbconvert_exporter": "python",
   "pygments_lexer": "ipython3",
   "version": "3.7.3"
  }
 },
 "nbformat": 4,
 "nbformat_minor": 2
}
