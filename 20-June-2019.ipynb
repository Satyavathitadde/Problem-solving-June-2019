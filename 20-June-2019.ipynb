{
 "cells": [
  {
   "cell_type": "markdown",
   "metadata": {},
   "source": [
    "### Date 20-June-2019\n",
    "### Day Objectives\n",
    "- Regular Expression\n",
    "    -  Construct Regular Expression for various cases\n",
    "    -  Regular Expressions Module and related in python\n",
    "    -  Improving the Contact application with name and phone number validation using regular expression\n",
    "- File Handling\n",
    "    -  Text Files\n",
    "    -  Upgrading the contacts Application to store contact information in a text file"
   ]
  },
  {
   "cell_type": "code",
   "execution_count": null,
   "metadata": {},
   "outputs": [],
   "source": []
  },
  {
   "cell_type": "markdown",
   "metadata": {},
   "source": [
    "### Regular Expressions\n",
    "\n",
    "- Pattern Matching\n",
    "- Sybolic Notation of pattern\n",
    "    - Pattern : Format which repeats\n",
    "    - Pattern(RE) - represents The set of all values match that pattern\n",
    "- [0-9]-> Any digit\n",
    "\n",
    "- [a-z]-> Any lower case alphabet\n",
    "\n",
    "- [2468] ->All single digit multiples of 2\n",
    "\n",
    "- ^[0-9]{1}$-> only single digit numbers\n",
    "\n",
    "- ^[0-9]{3}$->Only three digit numbers\n",
    "\n",
    "- ^[0-9]*0$-> All multiples of 10\n",
    "\n",
    "- ^[1-9][0-9]*[05]$->All multiples of 5\n",
    "\n",
    "- ^[1-9][0-9]{9}$ ->All 10 digit numbers\n",
    "\n",
    "- ^[6-9]{1}[0-9]{9}$|^[0][6-9][0-9]{9}$|^[+][9][1][6-9][0-9]{9}$ -> Validating Phone number(india)(start with 9876543210)\n",
    "\n",
    "- [w][o][r][d] or word->Searching for a 'word'\n",
    "- \n",
    "\n",
    "- ^[0-9a-z][0-9a-z_.]{4,13}[0-9a-z][@][0-9a-z]{3,18}[.][a-z]{2,4}$ ->Email validation(username@domain.extension)\n",
    "\n",
    "- ^[0-9a-z][0-9a-z_.]{5,14}[0-9a-z]$  -username\n",
    "                                          - Length of username : [6,15]\n",
    "                                          - No Specicla characters other than underscore(_) and dot(.)\n",
    "                                          - Should not begin and end with _ .\n",
    "                                          - Character set:all digits and alphabet\n",
    "\n",
    "        -domain\n",
    "             - Length of domain : [3,18]\n",
    "             - No special characters\n",
    "             - Character set:all digits and alphabets\n",
    "             \n",
    "        -Extension\n",
    "             - Length of extension:[2,4]\n",
    "             - No special characters\n",
    "             - Character set: lower case alphabet\n",
    "- ^[a]...[z]$->Any string of length 5 that starts with 'a' and ends with 'z'\n",
    "- ^[a].*[z]$ -> Any string of length that starts with 'a' and ends with 'z'"
   ]
  },
  {
   "cell_type": "code",
   "execution_count": 8,
   "metadata": {},
   "outputs": [
    {
     "name": "stdout",
     "output_type": "stream",
     "text": [
      "1\n",
      "2 3\n"
     ]
    },
    {
     "ename": "ValueError",
     "evalue": "invalid literal for int() with base 10: '2 3'",
     "output_type": "error",
     "traceback": [
      "\u001b[1;31m---------------------------------------------------------------------------\u001b[0m",
      "\u001b[1;31mValueError\u001b[0m                                Traceback (most recent call last)",
      "\u001b[1;32m<ipython-input-8-6a2aa7af00f3>\u001b[0m in \u001b[0;36m<module>\u001b[1;34m\u001b[0m\n\u001b[0;32m      1\u001b[0m \u001b[0mt\u001b[0m\u001b[1;33m=\u001b[0m\u001b[0mint\u001b[0m\u001b[1;33m(\u001b[0m\u001b[0minput\u001b[0m\u001b[1;33m(\u001b[0m\u001b[1;33m)\u001b[0m\u001b[1;33m)\u001b[0m\u001b[1;33m\u001b[0m\u001b[1;33m\u001b[0m\u001b[0m\n\u001b[0;32m      2\u001b[0m \u001b[1;32mfor\u001b[0m \u001b[0mi\u001b[0m \u001b[1;32min\u001b[0m \u001b[0mrange\u001b[0m\u001b[1;33m(\u001b[0m\u001b[1;36m1\u001b[0m\u001b[1;33m,\u001b[0m\u001b[0mt\u001b[0m\u001b[1;33m+\u001b[0m\u001b[1;36m1\u001b[0m\u001b[1;33m)\u001b[0m\u001b[1;33m:\u001b[0m\u001b[1;33m\u001b[0m\u001b[1;33m\u001b[0m\u001b[0m\n\u001b[1;32m----> 3\u001b[1;33m     \u001b[0mn\u001b[0m\u001b[1;33m=\u001b[0m\u001b[0mint\u001b[0m\u001b[1;33m(\u001b[0m\u001b[0minput\u001b[0m\u001b[1;33m(\u001b[0m\u001b[1;33m)\u001b[0m\u001b[1;33m)\u001b[0m\u001b[1;33m\u001b[0m\u001b[1;33m\u001b[0m\u001b[0m\n\u001b[0m\u001b[0;32m      4\u001b[0m     \u001b[0mp\u001b[0m\u001b[1;33m=\u001b[0m\u001b[0mint\u001b[0m\u001b[1;33m(\u001b[0m\u001b[0mn\u001b[0m\u001b[1;33m[\u001b[0m\u001b[1;36m0\u001b[0m\u001b[1;33m]\u001b[0m\u001b[1;33m)\u001b[0m\u001b[1;33m\u001b[0m\u001b[1;33m\u001b[0m\u001b[0m\n\u001b[0;32m      5\u001b[0m     \u001b[0mg\u001b[0m\u001b[1;33m=\u001b[0m\u001b[0mint\u001b[0m\u001b[1;33m(\u001b[0m\u001b[0mn\u001b[0m\u001b[1;33m[\u001b[0m\u001b[1;36m1\u001b[0m\u001b[1;33m]\u001b[0m\u001b[1;33m)\u001b[0m\u001b[1;33m\u001b[0m\u001b[1;33m\u001b[0m\u001b[0m\n",
      "\u001b[1;31mValueError\u001b[0m: invalid literal for int() with base 10: '2 3'"
     ]
    }
   ],
   "source": [
    "t=int(input())\n",
    "for i in range(1,t+1):\n",
    "    b=input().split()\n",
    "    g=int(b[0])\n",
    "    p=int(b[1])\n",
    "    n=int(input())\n",
    "    sum1=0\n",
    "    sum2=0\n",
    "for i in range(1,n+1):\n",
    "    p3=int(input())\n",
    "    p1=int(p3[0])\n",
    "    p2=int(p3[1])\n",
    "    \n",
    "    \n",
    "\n",
    "\n",
    "    "
   ]
  },
  {
   "cell_type": "code",
   "execution_count": 33,
   "metadata": {},
   "outputs": [
    {
     "name": "stdout",
     "output_type": "stream",
     "text": [
      "Valid Number\n"
     ]
    },
    {
     "data": {
      "text/plain": [
       "True"
      ]
     },
     "execution_count": 33,
     "metadata": {},
     "output_type": "execute_result"
    }
   ],
   "source": [
    "# Function to validate a phone number\n",
    "import re\n",
    "def PhoneNumberValidator(number):\n",
    "        pattern='^[6-9]{1}[0-9]{9}$|^[0][6-9][0-9]{9}$|^[+][9][1][6-9][0-9]{9}$'\n",
    "        if re.match(pattern,str(number)):\n",
    "            print(\"Valid Number\")\n",
    "        else:\n",
    "            print(\"Invalid Number\")\n",
    "        return \n",
    "PhoneNumberValidator(9876543216)\n",
    "\n",
    "def emailvalidator(email):\n",
    "    pattern='^[0-9a-z][0-9a-z_.]{4,13}[0-9a-z][@][0-9a-z]{3,18}[.][a-z]{2,4}$'\n",
    "    if re.match(pattern,email):\n",
    "        return True\n",
    "    return False\n",
    "emailvalidator(\"re_12345@gmail.com\")"
   ]
  },
  {
   "cell_type": "code",
   "execution_count": 32,
   "metadata": {},
   "outputs": [
    {
     "name": "stdout",
     "output_type": "stream",
     "text": [
      "contact name1 alreay exist\n"
     ]
    }
   ],
   "source": [
    "contacts={\"name1\":[9876543210,'name1@domain.ext'],\"name2\":[7654321098,'name2@domain.ext']}\n",
    "\n",
    "def addcontact(name,phone):\n",
    "    # verify the contact doesnot already exist\n",
    "    if name not in contacts and PhoneNumberValidator(phone):\n",
    "        contacts[name]=phone\n",
    "        print(\"contact %s added\" % name)\n",
    "    if name in contacts:\n",
    "        print(\"contact %s alreay exist\" % name)\n",
    "    elif not PhoneNumberValidator(phone):\n",
    "        print(\"phone number is invalid\")\n",
    "    return\n",
    "addcontact(\"name1\",+919876543210)"
   ]
  },
  {
   "cell_type": "code",
   "execution_count": 36,
   "metadata": {},
   "outputs": [
    {
     "ename": "NameError",
     "evalue": "name 'name1' is not defined",
     "output_type": "error",
     "traceback": [
      "\u001b[1;31m---------------------------------------------------------------------------\u001b[0m",
      "\u001b[1;31mNameError\u001b[0m                                 Traceback (most recent call last)",
      "\u001b[1;32m<ipython-input-36-d75eb4d3127e>\u001b[0m in \u001b[0;36m<module>\u001b[1;34m\u001b[0m\n\u001b[0;32m     17\u001b[0m         \u001b[0mprint\u001b[0m\u001b[1;33m(\u001b[0m\u001b[0mname\u001b[0m\u001b[1;33m,\u001b[0m\u001b[1;34m\"added successfully\"\u001b[0m\u001b[1;33m)\u001b[0m\u001b[1;33m\u001b[0m\u001b[1;33m\u001b[0m\u001b[0m\n\u001b[0;32m     18\u001b[0m     \u001b[1;32mreturn\u001b[0m\u001b[1;33m\u001b[0m\u001b[1;33m\u001b[0m\u001b[0m\n\u001b[1;32m---> 19\u001b[1;33m \u001b[0maddcontact\u001b[0m\u001b[1;33m(\u001b[0m\u001b[1;34m\"name1\"\u001b[0m\u001b[1;33m,\u001b[0m\u001b[1;36m9876543210\u001b[0m\u001b[1;33m,\u001b[0m\u001b[0mname1\u001b[0m\u001b[1;33m@\u001b[0m\u001b[0mdomain\u001b[0m\u001b[1;33m.\u001b[0m\u001b[0mtxt\u001b[0m\u001b[1;33m)\u001b[0m\u001b[1;33m\u001b[0m\u001b[1;33m\u001b[0m\u001b[0m\n\u001b[0m",
      "\u001b[1;31mNameError\u001b[0m: name 'name1' is not defined"
     ]
    }
   ],
   "source": [
    "contacts={\"name1\":[9876543210,'name1@domain.ext'],\"name2\":[7654321098,'name2@domain.ext']}\n",
    "\n",
    "def addcontact(name,phone,email):\n",
    "    if name in contacts:\n",
    "        print(name,\"already exists\")\n",
    "    else:\n",
    "        if not phoneNumberValidator(phone):\n",
    "            print(\"Invalid phone number\")\n",
    "            return \n",
    "        if not emailvalidator(email):\n",
    "            print(\"Invalid email adress\")\n",
    "            return\n",
    "        newcontact=[]\n",
    "        newcontact.append(phone)\n",
    "        newcontact.append(email)\n",
    "        contacts[name]=newcontact\n",
    "        print(name,\"added successfully\")\n",
    "    return\n",
    "addcontact(\"name1\",9876543210,name1@domain.txt)"
   ]
  },
  {
   "cell_type": "code",
   "execution_count": null,
   "metadata": {},
   "outputs": [],
   "source": []
  }
 ],
 "metadata": {
  "kernelspec": {
   "display_name": "Python 3",
   "language": "python",
   "name": "python3"
  },
  "language_info": {
   "codemirror_mode": {
    "name": "ipython",
    "version": 3
   },
   "file_extension": ".py",
   "mimetype": "text/x-python",
   "name": "python",
   "nbconvert_exporter": "python",
   "pygments_lexer": "ipython3",
   "version": "3.7.3"
  }
 },
 "nbformat": 4,
 "nbformat_minor": 2
}
