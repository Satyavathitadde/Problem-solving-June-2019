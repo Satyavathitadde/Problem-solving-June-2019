{
 "cells": [
  {
   "cell_type": "markdown",
   "metadata": {},
   "source": [
    "### Date:22-June-2019\n",
    "\n",
    "### Day Objectives\n",
    "-  File Handling\n",
    "    - Basic File Data processing\n",
    "        - Accessing and Modifying File data\n",
    "    - Character Count \n",
    "    - Line Count\n",
    "    - File Size\n",
    "    - Word Count\n",
    "    - Unique Word Count\n",
    "    "
   ]
  },
  {
   "cell_type": "code",
   "execution_count": 36,
   "metadata": {},
   "outputs": [
    {
     "name": "stdout",
     "output_type": "stream",
     "text": [
      "new data\n",
      "Line2\n",
      "Line3\n",
      "Line4\n",
      "Line5\n"
     ]
    }
   ],
   "source": [
    "# Read a File - File should exist (Read Mode)\n",
    "# Write to a File - Existing(append mode) or New File(Write mode)\n",
    "\n",
    "def readFile(filePath):\n",
    "    with open(filePath,'r') as f:\n",
    "        filedata=f.read()\n",
    "    return filedata\n",
    "filePath='DataFiles/data.txt'\n",
    "print(readFile(filePath))\n",
    "         "
   ]
  },
  {
   "cell_type": "code",
   "execution_count": 37,
   "metadata": {},
   "outputs": [
    {
     "name": "stdout",
     "output_type": "stream",
     "text": [
      "32\n"
     ]
    }
   ],
   "source": [
    "# Character count\n",
    "\n",
    "def charactercount(filePath):\n",
    "    c=0\n",
    "    with open(filePath,'r') as f:\n",
    "        filedata=f.read()\n",
    "        for i in filedata:\n",
    "            c=c+1\n",
    "        print(c)\n",
    "    \n",
    "            \n",
    "filePath='DataFiles/data.txt'\n",
    "charactercount(filePath)"
   ]
  },
  {
   "cell_type": "code",
   "execution_count": 35,
   "metadata": {},
   "outputs": [
    {
     "name": "stdout",
     "output_type": "stream",
     "text": [
      "5\n"
     ]
    }
   ],
   "source": [
    "# Line count\n",
    "def linecount(filePath):\n",
    "    c=0\n",
    "    with open(filePath,'r') as f:\n",
    "        for i in f:\n",
    "            c=c+1\n",
    "    print(c)\n",
    "    \n",
    "            \n",
    "filePath='DataFiles/data.txt'\n",
    "linecount(filePath)"
   ]
  },
  {
   "cell_type": "code",
   "execution_count": 1,
   "metadata": {},
   "outputs": [
    {
     "name": "stdout",
     "output_type": "stream",
     "text": [
      "32\n"
     ]
    }
   ],
   "source": [
    "# File Size\n",
    "\n",
    "def fielsize(filePath):\n",
    "    c=0\n",
    "    with open(filePath,'r') as f:\n",
    "        filedata=f.read()\n",
    "        for i in filedata:\n",
    "            c=c+1\n",
    "        print(c*1)\n",
    "    \n",
    "            \n",
    "filePath='DataFiles/data.txt'\n",
    "fielsize(filePath)"
   ]
  },
  {
   "cell_type": "code",
   "execution_count": 6,
   "metadata": {},
   "outputs": [
    {
     "name": "stdout",
     "output_type": "stream",
     "text": [
      "2\n",
      "3\n",
      "A\n",
      "5\n",
      "A\n"
     ]
    }
   ],
   "source": [
    "# Lift queries\n",
    "A=0\n",
    "B=7\n",
    "t=int(input())\n",
    "for i in range(1,t+1):\n",
    "    N=int(input())\n",
    "    if(abs(A-N) > abs(B-N)):\n",
    "        B=N\n",
    "        print(\"B\")\n",
    "    elif(abs(A-N) < abs(B-N)):\n",
    "        A=N\n",
    "        print(\"A\")\n",
    "    elif(abs(A-N)==abs(B-N)):\n",
    "        if A>B:\n",
    "            print(\"B\")\n",
    "            B=N\n",
    "        else:\n",
    "            print(\"A\")\n",
    "            A=N\n",
    "    \n"
   ]
  },
  {
   "cell_type": "code",
   "execution_count": 3,
   "metadata": {},
   "outputs": [
    {
     "name": "stdout",
     "output_type": "stream",
     "text": [
      "2\n",
      "1 4\n",
      "2 5\n",
      "3 9 "
     ]
    }
   ],
   "source": [
    "# Add two arrays of a list\n",
    "\n",
    "n=int(input())\n",
    "a1=list(map(int,input().split()))\n",
    "a2=list(map(int,input().split()))\n",
    "a3=[]\n",
    "for i in range(0,n):\n",
    "    a3.append(a1[i]+a2[i])\n",
    "for j in a3:\n",
    "    print(j,end=\" \")\n",
    "    \n"
   ]
  },
  {
   "cell_type": "code",
   "execution_count": 2,
   "metadata": {},
   "outputs": [
    {
     "name": "stdout",
     "output_type": "stream",
     "text": [
      "2\n",
      "18\n",
      "19 WS\n",
      "40\n",
      "45 AS\n"
     ]
    }
   ],
   "source": [
    "# Seating arrangement\n",
    "\n",
    "T=int(input())\n",
    "for i in range(1,T+1):\n",
    "    n=int(input())\n",
    "    n1=n%12\n",
    "    if n1==1 or n1==6 or n1==7 or n1==12:\n",
    "        if n1==1:\n",
    "            print(n+11,\"WS\")\n",
    "        elif n1==6:\n",
    "            print(n+1,\"WS\")\n",
    "        elif n1==7:\n",
    "            print(n-1,\"WS\")\n",
    "        elif n1==12:\n",
    "            print(n-11,\"WS\")\n",
    "    elif n1==2 or n1==5 or n1==8 or n1==11:\n",
    "        if n1==2:\n",
    "            print(n+9,\"MS\")\n",
    "        elif n1==5:\n",
    "            print(n+3,\"MS\")\n",
    "        elif n1==8:\n",
    "            print(n-3,\"MS\")\n",
    "        elif n1==11:\n",
    "            print(n-9,\"MS\")\n",
    "    elif n1==3 or n1==4 or n1==9 or n1==10:\n",
    "        if n1==3:\n",
    "            print(n+7,\"AS\")\n",
    "        elif n1==4:\n",
    "            print(n+5,\"AS\")\n",
    "        elif n1==9:\n",
    "            print(n-5,\"AS\")\n",
    "        elif n1==10:\n",
    "            print(n-7,\"AS\")\n",
    "    \n",
    "    \n",
    "    "
   ]
  },
  {
   "cell_type": "code",
   "execution_count": 3,
   "metadata": {},
   "outputs": [
    {
     "name": "stdout",
     "output_type": "stream",
     "text": [
      "2\n",
      "9 6\n",
      "10\n",
      "1 1\n",
      "1 1\n",
      "0 1\n",
      "0 0\n",
      "0 1\n",
      "0 0\n",
      "0 1\n",
      "0 1\n",
      "1 1\n",
      "0 0\n",
      "69\n",
      "1 9\n",
      "10\n",
      "0 1\n",
      "0 0\n",
      "0 0\n",
      "0 1\n",
      "1 0\n",
      "0 1\n",
      "0 1\n",
      "0 0\n",
      "0 1\n",
      "0 0\n",
      "14\n"
     ]
    }
   ],
   "source": [
    "# Cost of ballons\n",
    "\n",
    "t=int(input())\n",
    "for i in range(1,t+1):\n",
    "    p,g=map(int,input().split())\n",
    "    n=int(input())\n",
    "    s1=0\n",
    "    s2=0\n",
    "    for k in range(1,n+1):\n",
    "        i,j=map(int,input().split())\n",
    "        s1=s1+(p*i+g*j)\n",
    "        s2=s2+(g*i+p*j)\n",
    "    print(min(s1,s2))\n",
    "    \n",
    "                \n",
    "                "
   ]
  },
  {
   "cell_type": "code",
   "execution_count": 9,
   "metadata": {},
   "outputs": [
    {
     "name": "stdout",
     "output_type": "stream",
     "text": [
      "3\n",
      "3 2\n",
      "5 2\n",
      "1 2\n",
      "3\n"
     ]
    }
   ],
   "source": [
    "# Aman and Mr.Sharma\n",
    "d=int(input())\n",
    "c=0\n",
    "for i in range(1,d+1):\n",
    "    r,x=map(int,input().split())\n",
    "    if(2*22/7*r<=100*x):\n",
    "        c=c+1\n",
    "print(c)\n",
    "    \n",
    "         "
   ]
  },
  {
   "cell_type": "code",
   "execution_count": 5,
   "metadata": {},
   "outputs": [
    {
     "data": {
      "text/plain": [
       "['new data', 'Line2', 'Line3', 'Line4', 'Line5', 'Line2', 'Line3']"
      ]
     },
     "execution_count": 5,
     "metadata": {},
     "output_type": "execute_result"
    }
   ],
   "source": [
    "# Funtion to read file into a list of lines\n",
    "# Each element in the list is one line in the file\n",
    "\n",
    "\n",
    "def readFileIntoList(filepath):\n",
    "    with open(filepath,'r') as f:\n",
    "        filedata=f.read()\n",
    "        lines=filedata.split('\\n')\n",
    "    return lines\n",
    "filepath='DataFiles/data.txt'\n",
    "readFileIntoList(filepath)\n",
    "\n",
    "\n"
   ]
  },
  {
   "cell_type": "code",
   "execution_count": 38,
   "metadata": {},
   "outputs": [
    {
     "data": {
      "text/plain": [
       "5"
      ]
     },
     "execution_count": 38,
     "metadata": {},
     "output_type": "execute_result"
    }
   ],
   "source": [
    "# Funtion to count number of lines in a file\n",
    "\n",
    "def countlinesFile(filepath):\n",
    "    count=len(readFileIntoList(filepath))\n",
    "    return count\n",
    "countlinesFile(filepath)\n"
   ]
  },
  {
   "cell_type": "code",
   "execution_count": 39,
   "metadata": {},
   "outputs": [
    {
     "data": {
      "text/plain": [
       "32"
      ]
     },
     "execution_count": 39,
     "metadata": {},
     "output_type": "execute_result"
    }
   ],
   "source": [
    "# Funtion to count the number of characters in file\n",
    "\n",
    "def charcountfile(filepath):\n",
    "    count=len(readFile(filepath))\n",
    "    return count\n",
    "\n",
    "charcountfile(filepath)\n"
   ]
  },
  {
   "cell_type": "code",
   "execution_count": 47,
   "metadata": {},
   "outputs": [
    {
     "data": {
      "text/plain": [
       "6"
      ]
     },
     "execution_count": 47,
     "metadata": {},
     "output_type": "execute_result"
    }
   ],
   "source": [
    "# Function to count the number of words in a file\n",
    "import re\n",
    "\n",
    "def wordCountFile(filepath):\n",
    "    pattern ='[ \\n]'\n",
    "    filedata=readFile(filepath)\n",
    "    count=len(re.split(pattern,filedata))\n",
    "    return count\n",
    "\n",
    "wordCountFile(filepath)\n"
   ]
  },
  {
   "cell_type": "code",
   "execution_count": 25,
   "metadata": {},
   "outputs": [
    {
     "data": {
      "text/plain": [
       "[1, 2, 3]"
      ]
     },
     "execution_count": 25,
     "metadata": {},
     "output_type": "execute_result"
    }
   ],
   "source": [
    "# Function to get unique elements in a list\n",
    "\n",
    "# [1,2,3,3,2,1]->[1,2,3]\n",
    "# Create empty unique list []\n",
    "\n",
    "def uniqueData(li):\n",
    "    # Creat an empty unique list\n",
    "    unique=[]\n",
    "    # For every element in the main list,\n",
    "        # check if it exists in the unique list\n",
    "        # If it does not exist add it to unique list\n",
    "        # else if it already exists,move on to the main list and add it to unique list\n",
    "    for element in li:\n",
    "        if element not in unique:\n",
    "            unique.append(element)\n",
    "    return unique\n",
    "\n",
    "li=[1,2,3,3,2,1]\n",
    "uniqueData(li)\n",
    "\n"
   ]
  },
  {
   "cell_type": "code",
   "execution_count": 3,
   "metadata": {},
   "outputs": [
    {
     "name": "stdout",
     "output_type": "stream",
     "text": [
      "['new', 'data', 'Line2', 'Line3', 'Line4', 'Line5']\n"
     ]
    }
   ],
   "source": [
    "# Function to count the number of Unique Words\n",
    "\n",
    "def uniquewordcount(filepath):\n",
    "    unique=[]\n",
    "    with open(filepath, 'r') as f:\n",
    "        filedata=f.read().split()\n",
    "        for element in filedata:\n",
    "            if element not in unique:\n",
    "                unique.append(element)\n",
    "    print(unique)\n",
    "\n",
    "filepath='DataFiles/data.txt'\n",
    "uniquewordcount(filepath)\n",
    "\n",
    "\n",
    "            "
   ]
  },
  {
   "cell_type": "code",
   "execution_count": 22,
   "metadata": {},
   "outputs": [
    {
     "name": "stdout",
     "output_type": "stream",
     "text": [
      "new data : 1\n",
      "Line2 : 2\n",
      "Line3 : 2\n",
      "Line4 : 1\n",
      "Line5 : 1\n"
     ]
    }
   ],
   "source": [
    "# Function to print the frequency count to the file\n",
    "# Frequency distribution\n",
    "# Data in line1\n",
    "# Data in line2\n",
    "# Data in line1\n",
    "# O/P\n",
    "#Data:3\n",
    "#in:3\n",
    "#line:3\n",
    "#1:1\n",
    "#2:1\n",
    "#3:1\n",
    "\n",
    "def frequencycount(filepath):\n",
    "    unique=[]\n",
    "    y=[]\n",
    "    filedata=readFileIntoList(filepath)\n",
    "    for element in filedata:\n",
    "        if element not in unique:\n",
    "            unique.append(element)\n",
    "    for element in unique:\n",
    "        y.append(unique.count(element))\n",
    "        print(element,':',filedata.count(element))\n",
    "        \n",
    "    \n",
    "filepath='DataFiles/data.txt'\n",
    "frequencycount(filepath)\n"
   ]
  },
  {
   "cell_type": "code",
   "execution_count": null,
   "metadata": {},
   "outputs": [],
   "source": []
  }
 ],
 "metadata": {
  "kernelspec": {
   "display_name": "Python 3",
   "language": "python",
   "name": "python3"
  },
  "language_info": {
   "codemirror_mode": {
    "name": "ipython",
    "version": 3
   },
   "file_extension": ".py",
   "mimetype": "text/x-python",
   "name": "python",
   "nbconvert_exporter": "python",
   "pygments_lexer": "ipython3",
   "version": "3.7.3"
  }
 },
 "nbformat": 4,
 "nbformat_minor": 2
}
