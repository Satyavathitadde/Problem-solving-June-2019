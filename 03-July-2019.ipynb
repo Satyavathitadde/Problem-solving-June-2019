{
 "cells": [
  {
   "cell_type": "code",
   "execution_count": 3,
   "metadata": {},
   "outputs": [
    {
     "name": "stdout",
     "output_type": "stream",
     "text": [
      "4\n",
      "3 2 1 3\n",
      "2\n"
     ]
    }
   ],
   "source": [
    "n=int(input())\n",
    "arr=list(map(int,input().split()))\n",
    "count=0\n",
    "big=max(arr)\n",
    "for i in range(len(arr)):\n",
    "    if arr[i]==big:\n",
    "        count=count+1\n",
    "print(count)\n"
   ]
  },
  {
   "cell_type": "code",
   "execution_count": 29,
   "metadata": {},
   "outputs": [
    {
     "name": "stdout",
     "output_type": "stream",
     "text": [
      "07:05:45PM\n",
      "19:05:45\n"
     ]
    }
   ],
   "source": [
    "Hackerrank time conversion problem\n",
    "\n",
    "def timeConversion(s):\n",
    "    time = s.split(\":\")\n",
    "    if s[-2:] == \"PM\":\n",
    "        if time[0] != \"12\":\n",
    "            time[0] = str(int(time[0])+12)\n",
    "    else:\n",
    "        if time[0] == \"12\":\n",
    "            time[0] = \"00\"\n",
    "    ntime = ':'.join(time)\n",
    "    return str(ntime[:-2])\n",
    "\n",
    "s=input()\n",
    "print(timeConversion(s))\n"
   ]
  },
  {
   "cell_type": "code",
   "execution_count": 33,
   "metadata": {},
   "outputs": [
    {
     "name": "stdout",
     "output_type": "stream",
     "text": [
      "1 2 3 4 5\n",
      "10 14\n"
     ]
    }
   ],
   "source": [
    "li=list(map(int,input().split()))\n",
    "x=sum(li)\n",
    "print(x-max(li),x-min(li))"
   ]
  },
  {
   "cell_type": "code",
   "execution_count": 34,
   "metadata": {},
   "outputs": [
    {
     "name": "stdout",
     "output_type": "stream",
     "text": [
      "A P S S D C\n"
     ]
    },
    {
     "data": {
      "text/plain": [
       "'Apssdc'"
      ]
     },
     "execution_count": 34,
     "metadata": {},
     "output_type": "execute_result"
    }
   ],
   "source": [
    "#1. Print given characters as a word with starting character capital form and remaining lower\n",
    "# i/p A P S S D C\n",
    "# o/p Apssdc\n",
    "\n",
    "\n",
    "s=input()\n",
    "def StartingCapital(s):\n",
    "    s1=s.replace(\" \",\"\")\n",
    "    s2=s1.swapcase()\n",
    "    s3=s2.capitalize()\n",
    "    return s3\n",
    "StartingCapital(s)"
   ]
  },
  {
   "cell_type": "code",
   "execution_count": 33,
   "metadata": {},
   "outputs": [
    {
     "name": "stdout",
     "output_type": "stream",
     "text": [
      "hai hello world\n",
      "hello\n",
      "world\n"
     ]
    }
   ],
   "source": [
    "#2. Print the maximum length word of given words\n",
    "#i/p Hai hello world\n",
    "#o/p\n",
    "#hello\n",
    "#world\n",
    "\n",
    "s=input().split()\n",
    "\n",
    "def maximum_length(s):\n",
    "    li=[]\n",
    "    for i in s:\n",
    "        li.append(len(i))\n",
    "    return li\n",
    "max_length=max(maximum_length(s))\n",
    "for i in s:\n",
    "    res=[]\n",
    "    if max_length==len(i):\n",
    "        print(i)\n",
    "    \n",
    "#maximum_length(s)\n",
    "\n",
    "#print(maximum_length(s))"
   ]
  },
  {
   "cell_type": "code",
   "execution_count": 17,
   "metadata": {},
   "outputs": [
    {
     "name": "stdout",
     "output_type": "stream",
     "text": [
      "ramu ravi balu\n",
      "r\n",
      "ramu\n",
      "ravi\n"
     ]
    }
   ],
   "source": [
    "\n",
    "#3. Print all the words which starts with the given character, If no words matches with the given condition you should print -1\n",
    "# i/p ramu ravi balu\n",
    "# op\n",
    "# r\n",
    "# ramu\n",
    "# ravi\n",
    "\n",
    "s=input()\n",
    "li=s.split()\n",
    "sub=input()\n",
    "def starts_with_r(s):\n",
    "    match=0\n",
    "    for i in li:\n",
    "        if i.startswith(sub):\n",
    "            print(i)\n",
    "    match=match+1\n",
    "    if match==0:\n",
    "        print(-1)\n",
    "\n",
    "starts_with_r(s)"
   ]
  },
  {
   "cell_type": "code",
   "execution_count": 36,
   "metadata": {},
   "outputs": [
    {
     "name": "stdout",
     "output_type": "stream",
     "text": [
      "ramu akash balu\n"
     ]
    },
    {
     "data": {
      "text/plain": [
       "'akash'"
      ]
     },
     "execution_count": 36,
     "metadata": {},
     "output_type": "execute_result"
    }
   ],
   "source": [
    "# 5. Print all the words which word contains duplicate characters\n",
    "# i/p ramu akash balu\n",
    "# o/p akash\n",
    "\n",
    "s=input().split()\n",
    "def duplicatewords(s):\n",
    "    for i in s:\n",
    "        for ch in i:\n",
    "            if i.count(ch)>1:\n",
    "                return i\n",
    "                break\n",
    "\n",
    "\n",
    "duplicatewords(s)"
   ]
  },
  {
   "cell_type": "code",
   "execution_count": 56,
   "metadata": {},
   "outputs": [
    {
     "name": "stdout",
     "output_type": "stream",
     "text": [
      "ramu ravi balu raju mahesh\n"
     ]
    },
    {
     "data": {
      "text/plain": [
       "'mahesh'"
      ]
     },
     "execution_count": 56,
     "metadata": {},
     "output_type": "execute_result"
    }
   ],
   "source": [
    "# 4. Print all the words which words not ends with vowels(a,e,i,o,u)\n",
    "#i/p ramu ravi balu raju mahesh\n",
    "#o/p mahesh\n",
    "\n",
    "s=input()\n",
    "li=s.split()\n",
    "def not_ends_with_vowels(s):\n",
    "    for i in li:\n",
    "        if not(i.endswith('a') or i.endswith('e') or i.endswith('i') or i.endswith('o') or i.endswith('u')):\n",
    "            return i\n",
    "\n",
    "\n",
    "not_ends_with_vowels(s)"
   ]
  },
  {
   "cell_type": "code",
   "execution_count": 57,
   "metadata": {},
   "outputs": [
    {
     "name": "stdout",
     "output_type": "stream",
     "text": [
      "HelllowOrld\n"
     ]
    },
    {
     "data": {
      "text/plain": [
       "'hELLLOWoRLd'"
      ]
     },
     "execution_count": 57,
     "metadata": {},
     "output_type": "execute_result"
    }
   ],
   "source": [
    "#6. Swap the case of all characters in given string except last character\n",
    "# i/p HellowOrld\n",
    "#o/p  hELLOWoRLd\n",
    "\n",
    "s=input()\n",
    "def swapcase_except_last(s):\n",
    "    return (s[:-1].swapcase()+s[-1])\n",
    "\n",
    "swapcase_except_last(s)"
   ]
  },
  {
   "cell_type": "code",
   "execution_count": 61,
   "metadata": {},
   "outputs": [
    {
     "name": "stdout",
     "output_type": "stream",
     "text": [
      "HelloWorld\n"
     ]
    },
    {
     "data": {
      "text/plain": [
       "2"
      ]
     },
     "execution_count": 61,
     "metadata": {},
     "output_type": "execute_result"
    }
   ],
   "source": [
    "# 7. Print the number of words in a given string (here word starting character contains UPPER letter)\n",
    "# i/p HelloWorld\n",
    "# o/p 2\n",
    "\n",
    "s=input()\n",
    "def words_length(s):\n",
    "    count=0\n",
    "    for char in s:\n",
    "        if char.isupper():\n",
    "            count=count+1\n",
    "    return count\n",
    "\n",
    "\n",
    "words_length(s)\n"
   ]
  },
  {
   "cell_type": "code",
   "execution_count": 38,
   "metadata": {},
   "outputs": [
    {
     "name": "stdout",
     "output_type": "stream",
     "text": [
      "www.way2sms.com\n",
      "DIGITS 1\n",
      "ALPHABETS 12\n",
      "OTHERS 2\n"
     ]
    }
   ],
   "source": [
    "# 8. Print the number of digits, alphabets and any other \n",
    "# i/p www.way2sms.com\n",
    "# o/p\n",
    "#DIGITS 1\n",
    "#ALPHABETS  12\n",
    "#OTHER 2\n",
    "\n",
    "s=input()\n",
    "def digits_alphabets():\n",
    "    dc=0\n",
    "    ac=0\n",
    "    oc=0\n",
    "    for i in s:\n",
    "        if(i.isdigit()):\n",
    "            dc=dc+1\n",
    "        elif(i.isalpha()):\n",
    "            ac=ac+1\n",
    "        else:\n",
    "            oc=oc+1\n",
    "    print(\"DIGITS\",dc)\n",
    "    print(\"ALPHABETS\",ac)\n",
    "    print(\"OTHERS\",oc)\n",
    "digits_alphabets()\n"
   ]
  },
  {
   "cell_type": "code",
   "execution_count": 18,
   "metadata": {},
   "outputs": [
    {
     "name": "stdout",
     "output_type": "stream",
     "text": [
      "10\n"
     ]
    },
    {
     "data": {
      "text/plain": [
       "2"
      ]
     },
     "execution_count": 18,
     "metadata": {},
     "output_type": "execute_result"
    }
   ],
   "source": [
    "### 1.Print even and odd numbers up to given range.\n",
    "\n",
    "#### input : 10 \n",
    "#### output:\n",
    "#### even numbers -->  2,4,6,8,10\n",
    "#### odd numbers --> 1,3,5,7,9\n",
    "n=int(input())\n",
    "def even_odd_numbers(n):\n",
    "    for i in range(2,n+1,2):\n",
    "        return i\n",
    "    print(\"\\n\")\n",
    "    for j in range(1,n+1,2):\n",
    "        return j\n",
    "\n",
    "even_odd_numbers(n)"
   ]
  },
  {
   "cell_type": "code",
   "execution_count": 26,
   "metadata": {},
   "outputs": [
    {
     "name": "stdout",
     "output_type": "stream",
     "text": [
      "5 9\n"
     ]
    },
    {
     "data": {
      "text/plain": [
       "True"
      ]
     },
     "execution_count": 26,
     "metadata": {},
     "output_type": "execute_result"
    }
   ],
   "source": [
    "### 2.print given numbers prime or not.\n",
    "\n",
    "#### input: --> 5 9\n",
    "#### output: -->5  True\n",
    "####                   9   False\n",
    "\n",
    "\n",
    "n=list(map(int,input().split()))\n",
    "def isprime(n):\n",
    "    for i in n:\n",
    "        count=0\n",
    "        for j in range(1,i+1):\n",
    "            if i%j==0:\n",
    "                count=count+1\n",
    "        if count==2:\n",
    "            return True\n",
    "        else:\n",
    "            return False\n",
    "\n",
    "isprime(n)"
   ]
  },
  {
   "cell_type": "code",
   "execution_count": 7,
   "metadata": {},
   "outputs": [
    {
     "name": "stdout",
     "output_type": "stream",
     "text": [
      "LLRDDR\n",
      "0 -2\n"
     ]
    }
   ],
   "source": [
    "# e-maze program\n",
    "\n",
    "x=0\n",
    "y=0\n",
    "s=input()\n",
    "for i in s:\n",
    "    if(i=='L'):\n",
    "        x=x-1\n",
    "    elif(i=='R'):\n",
    "        x=x+1\n",
    "    elif(i=='D'):\n",
    "        y=y-1\n",
    "    elif(i=='U'):\n",
    "        y=y+1\n",
    "print(x,y)\n"
   ]
  },
  {
   "cell_type": "code",
   "execution_count": 10,
   "metadata": {},
   "outputs": [
    {
     "name": "stdout",
     "output_type": "stream",
     "text": [
      "4\n",
      "1 2 4 4\n",
      "32\n"
     ]
    }
   ],
   "source": [
    "n=int(input())\n",
    "li=list(map(int,input().split()))\n",
    "sum=1\n",
    "for i in li:\n",
    "    sum=(sum*i)%(pow(10,9)+7)\n",
    "print(sum)"
   ]
  },
  {
   "cell_type": "code",
   "execution_count": null,
   "metadata": {},
   "outputs": [],
   "source": []
  }
 ],
 "metadata": {
  "kernelspec": {
   "display_name": "Python 3",
   "language": "python",
   "name": "python3"
  },
  "language_info": {
   "codemirror_mode": {
    "name": "ipython",
    "version": 3
   },
   "file_extension": ".py",
   "mimetype": "text/x-python",
   "name": "python",
   "nbconvert_exporter": "python",
   "pygments_lexer": "ipython3",
   "version": "3.7.3"
  }
 },
 "nbformat": 4,
 "nbformat_minor": 2
}
