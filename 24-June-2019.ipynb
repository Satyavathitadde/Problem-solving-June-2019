{
 "cells": [
  {
   "cell_type": "code",
   "execution_count": 20,
   "metadata": {},
   "outputs": [
    {
     "data": {
      "text/plain": [
       "[1, 2, 3]"
      ]
     },
     "execution_count": 20,
     "metadata": {},
     "output_type": "execute_result"
    }
   ],
   "source": [
    "def uniqueData(li):\n",
    "    # Creat an empty unique list\n",
    "    unique=[]\n",
    "    # For every element in the main list,\n",
    "        # check if it exists in the unique list\n",
    "        # If it does not exist add it to unique list\n",
    "        # else if it already exists,move on to the main list and add it to unique list\n",
    "    for element in li:\n",
    "        if element not in unique:\n",
    "            unique.append(element)\n",
    "    return unique\n",
    "\n",
    "li=[1,2,3,3,2,1]\n",
    "uniqueData(li)"
   ]
  },
  {
   "cell_type": "code",
   "execution_count": 21,
   "metadata": {},
   "outputs": [
    {
     "name": "stdout",
     "output_type": "stream",
     "text": [
      "new data\n",
      "Today, almost every developer working on a group project or individually uses GitHub as most important tool due to its capability of making version control easier. GitHub provides developers an essential tool which helps in best code practices, on the other hand it does help in showcasing your recent work also.Line2,Line3\n"
     ]
    }
   ],
   "source": [
    "\n",
    "def readFile(filePath):\n",
    "    with open(filePath,'r') as f:\n",
    "        filedata=f.read()\n",
    "    return filedata\n",
    "filePath='DataFiles/data.txt'\n",
    "print(readFile(filePath))\n",
    "         "
   ]
  },
  {
   "cell_type": "code",
   "execution_count": 25,
   "metadata": {},
   "outputs": [
    {
     "data": {
      "text/plain": [
       "['new',\n",
       " 'data',\n",
       " 'Today,',\n",
       " 'almost',\n",
       " 'every',\n",
       " 'developer',\n",
       " 'working',\n",
       " 'on',\n",
       " 'a',\n",
       " 'group',\n",
       " 'project',\n",
       " 'or',\n",
       " 'individually',\n",
       " 'uses',\n",
       " 'GitHub',\n",
       " 'as',\n",
       " 'most',\n",
       " 'important',\n",
       " 'tool',\n",
       " 'due',\n",
       " 'to',\n",
       " 'its',\n",
       " 'capability',\n",
       " 'of',\n",
       " 'making',\n",
       " 'version',\n",
       " 'control',\n",
       " 'easier.',\n",
       " 'provides',\n",
       " 'developers',\n",
       " 'an',\n",
       " 'essential',\n",
       " 'which',\n",
       " 'helps',\n",
       " 'in',\n",
       " 'best',\n",
       " 'code',\n",
       " 'practices,',\n",
       " 'the',\n",
       " 'other',\n",
       " 'hand',\n",
       " 'it',\n",
       " 'does',\n",
       " 'help',\n",
       " 'showcasing',\n",
       " 'your',\n",
       " 'recent',\n",
       " 'work',\n",
       " 'also.Line2,Line3']"
      ]
     },
     "execution_count": 25,
     "metadata": {},
     "output_type": "execute_result"
    }
   ],
   "source": [
    "# Function to count the number of words in a file\n",
    "import re\n",
    "\n",
    "def wordCountFile(filepath):\n",
    "    pattern ='[ \\n]'\n",
    "    filedata=readFile(filePath)\n",
    "    count=len(re.split(pattern,filedata))\n",
    "    return count\n",
    "filePath='DataFiles/data.txt'\n",
    "#wordCountFile(filepath)\n",
    "\n",
    "def wordsFromFile(filepath):\n",
    "    pattern ='[ \\n]'\n",
    "    filedata=readFile(filePath)\n",
    "    allwords=(re.split(pattern,filedata))\n",
    "    return allwords\n",
    "wordCountFile(filePath)\n",
    "wordsFromFile(filePath)\n",
    "\n",
    "def uniqueWords(filePath):\n",
    "    filedata = wordsFromFile(filePath)\n",
    "    unique =[]\n",
    "    for element in filedata:\n",
    "        if element not in unique:\n",
    "            unique.append(element)\n",
    "    return unique\n",
    "uniqueWords(filePath)\n",
    "    \n"
   ]
  },
  {
   "cell_type": "code",
   "execution_count": null,
   "metadata": {},
   "outputs": [],
   "source": [
    "# Function for frequency count of unique words in a file data this can be done in three ways \n",
    "    # Using dictionary.keys\n",
    "    # Using list\n",
    "    # Using sets"
   ]
  },
  {
   "cell_type": "code",
   "execution_count": null,
   "metadata": {},
   "outputs": [],
   "source": []
  },
  {
   "cell_type": "code",
   "execution_count": 26,
   "metadata": {},
   "outputs": [
    {
     "name": "stdout",
     "output_type": "stream",
     "text": [
      "new : 1\n",
      "data : 1\n",
      "Today, : 1\n",
      "almost : 1\n",
      "every : 1\n",
      "developer : 1\n",
      "working : 1\n",
      "on : 2\n",
      "a : 1\n",
      "group : 1\n",
      "project : 1\n",
      "or : 1\n",
      "individually : 1\n",
      "uses : 1\n",
      "GitHub : 2\n",
      "as : 1\n",
      "most : 1\n",
      "important : 1\n",
      "tool : 2\n",
      "due : 1\n",
      "to : 1\n",
      "its : 1\n",
      "capability : 1\n",
      "of : 1\n",
      "making : 1\n",
      "version : 1\n",
      "control : 1\n",
      "easier. : 1\n",
      "provides : 1\n",
      "developers : 1\n",
      "an : 1\n",
      "essential : 1\n",
      "which : 1\n",
      "helps : 1\n",
      "in : 2\n",
      "best : 1\n",
      "code : 1\n",
      "practices, : 1\n",
      "the : 1\n",
      "other : 1\n",
      "hand : 1\n",
      "it : 1\n",
      "does : 1\n",
      "help : 1\n",
      "showcasing : 1\n",
      "your : 1\n",
      "recent : 1\n",
      "work : 1\n",
      "also.Line2,Line3 : 1\n"
     ]
    },
    {
     "data": {
      "text/plain": [
       "['new',\n",
       " 'data',\n",
       " 'Today,',\n",
       " 'almost',\n",
       " 'every',\n",
       " 'developer',\n",
       " 'working',\n",
       " 'on',\n",
       " 'a',\n",
       " 'group',\n",
       " 'project',\n",
       " 'or',\n",
       " 'individually',\n",
       " 'uses',\n",
       " 'GitHub',\n",
       " 'as',\n",
       " 'most',\n",
       " 'important',\n",
       " 'tool',\n",
       " 'due',\n",
       " 'to',\n",
       " 'its',\n",
       " 'capability',\n",
       " 'of',\n",
       " 'making',\n",
       " 'version',\n",
       " 'control',\n",
       " 'easier.',\n",
       " 'GitHub',\n",
       " 'provides',\n",
       " 'developers',\n",
       " 'an',\n",
       " 'essential',\n",
       " 'tool',\n",
       " 'which',\n",
       " 'helps',\n",
       " 'in',\n",
       " 'best',\n",
       " 'code',\n",
       " 'practices,',\n",
       " 'on',\n",
       " 'the',\n",
       " 'other',\n",
       " 'hand',\n",
       " 'it',\n",
       " 'does',\n",
       " 'help',\n",
       " 'in',\n",
       " 'showcasing',\n",
       " 'your',\n",
       " 'recent',\n",
       " 'work',\n",
       " 'also.Line2,Line3']"
      ]
     },
     "execution_count": 26,
     "metadata": {},
     "output_type": "execute_result"
    }
   ],
   "source": [
    "def FreqDistribution1(filePath):\n",
    "    allwords=wordsFromFile(filePath)\n",
    "    uniquewords=uniqueWords(filePath)\n",
    "    \n",
    "    for word in uniquewords:\n",
    "        count=allwords.count(word)\n",
    "        print(word,':',count)\n",
    "    return allwords\n",
    "FreqDistribution1(filePath)"
   ]
  },
  {
   "cell_type": "code",
   "execution_count": 11,
   "metadata": {},
   "outputs": [
    {
     "data": {
      "text/plain": [
       "{'new': 1,\n",
       " 'data': 1,\n",
       " 'Today,': 1,\n",
       " 'almost': 1,\n",
       " 'every': 1,\n",
       " 'developer': 1,\n",
       " 'working': 1,\n",
       " 'on': -1,\n",
       " 'a': 1,\n",
       " 'group': 1,\n",
       " 'project': 1,\n",
       " 'or': 1,\n",
       " 'individually': 1,\n",
       " 'uses': 1,\n",
       " 'GitHub': -1,\n",
       " 'as': 1,\n",
       " 'most': 1,\n",
       " 'important': 1,\n",
       " 'tool': -1,\n",
       " 'due': 1,\n",
       " 'to': 1,\n",
       " 'its': 1,\n",
       " 'capability': 1,\n",
       " 'of': 1,\n",
       " 'making': 1,\n",
       " 'version': 1,\n",
       " 'control': 1,\n",
       " 'easier.': 1,\n",
       " 'provides': 1,\n",
       " 'developers': 1,\n",
       " 'an': 1,\n",
       " 'essential': 1,\n",
       " 'which': 1,\n",
       " 'helps': 1,\n",
       " 'in': -1,\n",
       " 'best': 1,\n",
       " 'code': 1,\n",
       " 'practices,': 1,\n",
       " 'the': 1,\n",
       " 'other': 1,\n",
       " 'hand': 1,\n",
       " 'it': 1,\n",
       " 'does': 1,\n",
       " 'help': 1,\n",
       " 'showcasing': 1,\n",
       " 'your': 1,\n",
       " 'recent': 1,\n",
       " 'work': 1,\n",
       " 'also.': 1}"
      ]
     },
     "execution_count": 11,
     "metadata": {},
     "output_type": "execute_result"
    }
   ],
   "source": [
    "def FreDistribution2(filePath):\n",
    "    allwords=wordsFromFile(filePath)\n",
    "    wordfrequency={}\n",
    "    for word in allwords:\n",
    "        if word not in wordfrequency.keys():\n",
    "            wordfrequency[word] =1\n",
    "        else:\n",
    "            wordfrequency[word]=-1\n",
    "    return wordfrequency\n",
    "FreDistribution2(filePath)"
   ]
  },
  {
   "cell_type": "code",
   "execution_count": null,
   "metadata": {},
   "outputs": [],
   "source": [
    "# Contacts application\n",
    "  # Add,Search,List,Modify Delete contact\n",
    "\n",
    "# Find and Replace Application\n",
    " # Count the total number of occurances of a\n",
    " # If word is existing\n",
    " # Replace all occurances of a word with another\n",
    "    \n",
    "# Marks Analysis Application\n",
    "   # Generate Marks file for n students\n",
    "   # Input:Marks text file - each line contains marks of one student\n",
    "   # Generate a report with the following information\n",
    "      # Class Average\n",
    "      # % of students passed\n",
    "      # % of students failed\n",
    "      # % of students with Distinction"
   ]
  },
  {
   "cell_type": "code",
   "execution_count": 3,
   "metadata": {},
   "outputs": [],
   "source": [
    "# Function to generate marks data for n studens\n",
    "\n",
    "from random import randint\n",
    "\n",
    "def generateMarks(n,lb,ub):\n",
    "    with open('DataFiles/marks.txt','w') as f:\n",
    "        for i in range(0,n):\n",
    "            r=randint(lb,ub)\n",
    "            f.write(str(r)+'\\n')\n",
    "    return\n",
    "\n",
    "generateMarks(10000,0,100)"
   ]
  },
  {
   "cell_type": "code",
   "execution_count": 13,
   "metadata": {},
   "outputs": [],
   "source": [
    "def appendDataToFile(filename,filedata):\n",
    "    with open(filename,'a') as f:\n",
    "        f.writelines(filedata)\n",
    "    return \n",
    "filedata=[\"Line2,Line3\"]\n",
    "filename='DataFiles\\data.txt'\n",
    "appendDataToFile(filename,filedata)"
   ]
  },
  {
   "cell_type": "code",
   "execution_count": null,
   "metadata": {},
   "outputs": [],
   "source": []
  }
 ],
 "metadata": {
  "kernelspec": {
   "display_name": "Python 3",
   "language": "python",
   "name": "python3"
  },
  "language_info": {
   "codemirror_mode": {
    "name": "ipython",
    "version": 3
   },
   "file_extension": ".py",
   "mimetype": "text/x-python",
   "name": "python",
   "nbconvert_exporter": "python",
   "pygments_lexer": "ipython3",
   "version": "3.7.3"
  }
 },
 "nbformat": 4,
 "nbformat_minor": 2
}
