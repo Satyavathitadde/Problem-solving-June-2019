{
 "cells": [
  {
   "cell_type": "code",
   "execution_count": null,
   "metadata": {},
   "outputs": [],
   "source": [
    "# Book of Potion making\n",
    "n=input()\n",
    "sum=0\n",
    "if len(n)!=10:\n",
    "    print(\"Illegal ISBN\")\n",
    "if len(n)==10:\n",
    "    sum=sum+((int(n[0])*1)+(int(n[1])*2)+(int(n[2])*3)+(int(n[3])*4)+(int(n[4])*5)+(int(n[5])*6)+(int(n[6])*7)+(int(n[7])*8)+(int(n[8])*9)+(int(n[9])*10))\n",
    "    if sum%11==0:\n",
    "        print(\"Legal ISBN\")\n",
    "    else:\n",
    "        print(\"Illegal ISBN\")\n",
    "        "
   ]
  },
  {
   "cell_type": "code",
   "execution_count": 1,
   "metadata": {},
   "outputs": [
    {
     "name": "stdout",
     "output_type": "stream",
     "text": [
      "1401601499\n",
      "Legal ISBN\n"
     ]
    }
   ],
   "source": [
    "n=input()\n",
    "sum=0\n",
    "if len(n)!=10:\n",
    "    print(\"Illegal ISBN\")\n",
    "else:\n",
    "    for i in range(1,11):\n",
    "        sum=sum+int(n[i-1])*i\n",
    "    if sum%11==0:\n",
    "        print(\"Legal ISBN\")\n",
    "    else:\n",
    "        print(\"Illegal ISBN\")"
   ]
  },
  {
   "cell_type": "code",
   "execution_count": 2,
   "metadata": {},
   "outputs": [
    {
     "name": "stdout",
     "output_type": "stream",
     "text": [
      "Invalid Phone number or Email\n"
     ]
    }
   ],
   "source": [
    "#  Function to add contacts text file\n",
    "from Packages.validators import PhoneNumberValidator as pnv,emailvalidator as env\n",
    "\n",
    "def addContacts(name,phone,email): \n",
    "    # store data as name,phone,email in the contacts file\n",
    "\n",
    "    filename='DataFiles/contacts.txt'\n",
    "    if not checkContactExists(name):\n",
    "        if pnv(phone) and env(email):\n",
    "            with open(filename,'a') as f:\n",
    "                line=name+','+str(phone)+','+email+ '\\n'\n",
    "                f.write(line)\n",
    "            print(name,'added to contacts')\n",
    "        else:\n",
    "            print('Invalid Phone number or Email')\n",
    "            return\n",
    "    else:\n",
    "        print(name,'already exists')\n",
    "            \n",
    "    return \n",
    "# Function to check if contact already exists\n",
    "import re\n",
    "def checkContactExists(name):\n",
    "    filename='DataFiles/contacts.txt'\n",
    "    with open(filename,'r') as f:\n",
    "        filedata=f.read()\n",
    "        pattern=name+','\n",
    "    return re.search(pattern,filedata)\n",
    "addContacts('name3',645644,'adf')\n",
    "\n",
    "\n",
    "\n",
    "    \n",
    "    "
   ]
  },
  {
   "cell_type": "code",
   "execution_count": null,
   "metadata": {},
   "outputs": [],
   "source": []
  },
  {
   "cell_type": "code",
   "execution_count": 6,
   "metadata": {},
   "outputs": [
    {
     "data": {
      "text/plain": [
       "'name19876543210name1_123@gmail.com\\nname2name19876543210name1_123@gmail.com\\n8765432109name19876543210name1_123@gmail.com\\nname2_345@gmail.comname1name19876543210name1_123@gmail.com\\n9876543210name19876543210name1_123@gmail.com\\nname1_23@gmail.com\\n'"
      ]
     },
     "execution_count": 6,
     "metadata": {},
     "output_type": "execute_result"
    }
   ],
   "source": [
    "filename='DataFiles/contacts.txt'\n",
    "def csvToList(filename):\n",
    "    li=[]\n",
    "    with open(filename,'r') as f:\n",
    "        for line in f:\n",
    "            li.append(line.split(','))\n",
    "    return li\n",
    "\n",
    "def listToFile(li):\n",
    "    s=''\n",
    "    for i in li:\n",
    "        s+=s.join(i)\n",
    "    return s\n",
    "\n",
    "li=csvToList(filename)\n",
    "listToFile(li)\n",
    "\n",
    "        "
   ]
  },
  {
   "cell_type": "code",
   "execution_count": 33,
   "metadata": {},
   "outputs": [
    {
     "name": "stdout",
     "output_type": "stream",
     "text": [
      "4\n",
      "*   *\n",
      "*   *\n",
      "*****\n",
      "*   *\n",
      "*   *\n",
      "*****\n",
      "*   *\n",
      "*   *\n",
      "*****\n",
      "*   *\n",
      "*   *\n",
      "*****\n",
      "*   *\n",
      "*   *\n"
     ]
    }
   ],
   "source": [
    "# Hackerearth Problem\n",
    "# Ladderophilia\n",
    "\n",
    "n=int(input())\n",
    "for i in range(n):\n",
    "    for j in range(2):\n",
    "        print(\"*   *\")\n",
    "    print(\"*****\")\n",
    "for i in range(2):\n",
    "    print(\"*   *\")"
   ]
  },
  {
   "cell_type": "code",
   "execution_count": null,
   "metadata": {},
   "outputs": [],
   "source": []
  }
 ],
 "metadata": {
  "kernelspec": {
   "display_name": "Python 3",
   "language": "python",
   "name": "python3"
  },
  "language_info": {
   "codemirror_mode": {
    "name": "ipython",
    "version": 3
   },
   "file_extension": ".py",
   "mimetype": "text/x-python",
   "name": "python",
   "nbconvert_exporter": "python",
   "pygments_lexer": "ipython3",
   "version": "3.7.3"
  }
 },
 "nbformat": 4,
 "nbformat_minor": 2
}
