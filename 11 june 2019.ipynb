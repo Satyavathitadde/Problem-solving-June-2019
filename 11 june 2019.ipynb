{
 "cells": [
  {
   "cell_type": "code",
   "execution_count": null,
   "metadata": {},
   "outputs": [],
   "source": [
    "## Notebook Basic\n",
    "* **Satya**\n",
    "* *keerthi*\n",
    "* ***syamala***\n",
    "* Normal Text\n",
    "  * sublist 1\n",
    "  * sublist 2\n",
    "  \n",
    "  \n",
    "1. Ordered list element 1\n",
    "2. Ordered list element 2\n",
    "\n",
    "\n",
    "- [ ] Option 1\n",
    "- [ ] Option 2\n",
    "- [x] Option 3\n",
    "\n",
    "\n",
    "\n",
    "[Jupyter Logo](JupyterLogo.png)\n",
    "\n",
    "![Jupyter Logo](JupyterLogo.png)\n",
    "\n",
    "<img src=\"JupyterLogo.png\" style=\"float:left\">"
   ]
  },
  {
   "cell_type": "markdown",
   "metadata": {},
   "source": [
    "I get 10 times more traffic from [Google][] than from\n",
    "[Yahoo][] or [MSN][].\n",
    "\n",
    "  [google]: http://google.com/        \"Google\"\n",
    "  [yahoo]:  http://search.yahoo.com/  \"Yahoo Search\"\n",
    "  [msn]:    http://search.msn.com/    \"MSN Search\""
   ]
  },
  {
   "cell_type": "markdown",
   "metadata": {},
   "source": [
    "printf(\"Hello Markdown\")\n",
    "\n",
    "<https:google.com>\n",
    "\n",
    "<markdown@google.com>"
   ]
  },
  {
   "cell_type": "markdown",
   "metadata": {},
   "source": [
    "## Python Basic\n",
    "\n",
    "python version 3.7\n",
    "\n",
    "- Scripting\n",
    "- Object Oriented\n",
    "- Functional"
   ]
  },
  {
   "cell_type": "code",
   "execution_count": 11,
   "metadata": {},
   "outputs": [
    {
     "name": "stdout",
     "output_type": "stream",
     "text": [
      "Good afternoon !||Hello Python\n"
     ]
    }
   ],
   "source": [
    "# Python comments\n",
    "\n",
    "print(\"Good afternoon\",\"!\",end=\"||\")#basic output\n",
    "print(\"Hello Python\")\n",
    "\n",
    "\n"
   ]
  },
  {
   "cell_type": "markdown",
   "metadata": {},
   "source": []
  },
  {
   "cell_type": "markdown",
   "metadata": {},
   "source": [
    "### Assignment"
   ]
  },
  {
   "cell_type": "code",
   "execution_count": 21,
   "metadata": {},
   "outputs": [
    {
     "name": "stdout",
     "output_type": "stream",
     "text": [
      "123 234 345\n"
     ]
    }
   ],
   "source": [
    "n1=123456 # single varible assignment\n",
    "n2=n3=n4=n1 # Multi variable assignment\n",
    "\n",
    "a,b,c=123,234,345 # Multi variable assignments with different values\n",
    "\n",
    "print(a,b,c)"
   ]
  },
  {
   "cell_type": "code",
   "execution_count": null,
   "metadata": {},
   "outputs": [],
   "source": []
  },
  {
   "cell_type": "markdown",
   "metadata": {},
   "source": [
    "### Data Types\n",
    "- int\n",
    "- float\n",
    "- string\n",
    "- double"
   ]
  },
  {
   "cell_type": "code",
   "execution_count": 49,
   "metadata": {},
   "outputs": [
    {
     "data": {
      "text/plain": [
       "12.0"
      ]
     },
     "execution_count": 49,
     "metadata": {},
     "output_type": "execute_result"
    }
   ],
   "source": [
    "\n",
    "type(a)\n",
    "s1=\"python\"\n",
    "type(s1)\n",
    "\n",
    "f1=12.345\n",
    "type(f1)\n",
    "float(str(int(f1)))"
   ]
  },
  {
   "cell_type": "markdown",
   "metadata": {},
   "source": [
    "### Arithmetic Operations\n",
    "- + \n",
    "- -\n",
    "- *\n",
    "- %\n",
    "- /\n",
    "- **"
   ]
  },
  {
   "cell_type": "code",
   "execution_count": 56,
   "metadata": {},
   "outputs": [
    {
     "data": {
      "text/plain": [
       "6130687873308026945890176790042303730066739281"
      ]
     },
     "execution_count": 56,
     "metadata": {},
     "output_type": "execute_result"
    }
   ],
   "source": [
    "n1%11\n",
    "n3=n2**12\n",
    "\n",
    "type(n3)\n",
    "len(str(n3))\n",
    "n3\n",
    "\n",
    "\n",
    "atoms=10**82\n",
    "len(str(atoms))\n",
    "type(str(atoms))\n",
    "122321**9"
   ]
  },
  {
   "cell_type": "code",
   "execution_count": null,
   "metadata": {},
   "outputs": [],
   "source": []
  },
  {
   "cell_type": "markdown",
   "metadata": {},
   "source": [
    "### Conditionals"
   ]
  },
  {
   "cell_type": "code",
   "execution_count": 64,
   "metadata": {},
   "outputs": [
    {
     "name": "stdout",
     "output_type": "stream",
     "text": [
      "false\n"
     ]
    }
   ],
   "source": [
    "if atoms<10**9:\n",
    "    print(\"true\")\n",
    "else:\n",
    "    print(\"false\")"
   ]
  },
  {
   "cell_type": "code",
   "execution_count": 68,
   "metadata": {},
   "outputs": [
    {
     "name": "stdout",
     "output_type": "stream",
     "text": [
      "odd\n"
     ]
    }
   ],
   "source": [
    "## check if a number is even\n",
    "\n",
    "n=123\n",
    "if n%2==0:\n",
    "    print(\"even\")\n",
    "else:\n",
    "    print(\"odd\")"
   ]
  },
  {
   "cell_type": "code",
   "execution_count": 8,
   "metadata": {
    "scrolled": true
   },
   "outputs": [
    {
     "name": "stdout",
     "output_type": "stream",
     "text": [
      "Enter the first number-1\n",
      "Enter the second number-50\n",
      "Enter the third number-100\n",
      "-1 is the greatest\n"
     ]
    }
   ],
   "source": [
    "# Find the greatest of 3 numbers\n",
    "\n",
    "n1=int(input(\"Enter the first number\"))\n",
    "n2=int(input(\"Enter the second number\"))\n",
    "n3=int(input(\"Enter the third number\"))\n",
    "\n",
    "if n1>n2 and n1>n3:\n",
    "    print(n1,\"is the greatest\")\n",
    "elif n2>n3:\n",
    "    print(n2,\"is the greatest\")\n",
    "else:\n",
    "    print(n3,\"is the greatest\")"
   ]
  },
  {
   "cell_type": "code",
   "execution_count": 15,
   "metadata": {},
   "outputs": [
    {
     "name": "stdout",
     "output_type": "stream",
     "text": [
      "enter any year1996\n",
      "the given year is leap year\n"
     ]
    }
   ],
   "source": [
    "#check if a year is a leap year\n",
    "n=int(input(\"enter any year\"))\n",
    "\n",
    "if n%400==0 and n%100!=0 or n%4==0:\n",
    "    print(\"the given year is leap year\")\n",
    "else:\n",
    "    print(\"the given year is not a leap year\")"
   ]
  },
  {
   "cell_type": "code",
   "execution_count": 1,
   "metadata": {},
   "outputs": [
    {
     "name": "stdout",
     "output_type": "stream",
     "text": [
      "Enter n value5\n",
      "Enter b value5\n",
      "Enter c value10\n",
      "5 is in a given range\n"
     ]
    }
   ],
   "source": [
    "#check if a number is in a given range\n",
    "n=int(input(\"Enter n value\"))\n",
    "a=int(input(\"Enter b value\"))\n",
    "b=int(input(\"Enter c value\"))\n",
    "if n>=a and n<=b:\n",
    "    print(n,\"is in a given range\")\n",
    "else:\n",
    "    print(n,\"is not in a given range\")"
   ]
  },
  {
   "cell_type": "code",
   "execution_count": 7,
   "metadata": {},
   "outputs": [
    {
     "name": "stdout",
     "output_type": "stream",
     "text": [
      "enter n value1234\n",
      "4\n"
     ]
    }
   ],
   "source": [
    "# calculate the number of digits in a number\n",
    "\n",
    "n=int(input(\"enter n value\"))\n",
    "count=0\n",
    "while(n!=0):\n",
    "    n=n//10\n",
    "    count=count+1\n",
    "print(count)"
   ]
  },
  {
   "cell_type": "code",
   "execution_count": 2,
   "metadata": {},
   "outputs": [
    {
     "name": "stdout",
     "output_type": "stream",
     "text": [
      "Enter any number5\n",
      "5 is a not a multiple of 10\n"
     ]
    }
   ],
   "source": [
    "# check if a number is a multiple of 10\n",
    "n=int(input(\"Enter any number\"))\n",
    "if n%10==0:\n",
    "    print(n,\"is a multiple of 10\")\n",
    "else:\n",
    "    print(n,\"is a not a multiple of 10\")"
   ]
  },
  {
   "cell_type": "code",
   "execution_count": 8,
   "metadata": {},
   "outputs": [
    {
     "name": "stdout",
     "output_type": "stream",
     "text": [
      "Enter any number2000\n",
      "2000 is a factor of 1000\n"
     ]
    }
   ],
   "source": [
    "# check if a number is a factor of 1000\n",
    "n=int(input(\"Enter any number\"))\n",
    "if n%1000==0:\n",
    "    print(n,\"is a factor of 1000\")\n",
    "else:\n",
    "    print(n,\"is a not a factor of 1000\")"
   ]
  },
  {
   "cell_type": "code",
   "execution_count": null,
   "metadata": {},
   "outputs": [],
   "source": [
    "# check if a given string is equal to a number\n"
   ]
  },
  {
   "cell_type": "code",
   "execution_count": 20,
   "metadata": {},
   "outputs": [
    {
     "name": "stdout",
     "output_type": "stream",
     "text": [
      "enter n value1024\n",
      "the sqare root of the 32\n"
     ]
    }
   ],
   "source": [
    "# calculate the square root of a number without functions\n",
    "\n",
    "n=int(input(\"enter n value\"))\n",
    "a=int((n)**(1/2))\n",
    "print(\"the sqare root of the\",a)"
   ]
  },
  {
   "cell_type": "code",
   "execution_count": null,
   "metadata": {},
   "outputs": [],
   "source": []
  }
 ],
 "metadata": {
  "kernelspec": {
   "display_name": "Python 3",
   "language": "python",
   "name": "python3"
  },
  "language_info": {
   "codemirror_mode": {
    "name": "ipython",
    "version": 3
   },
   "file_extension": ".py",
   "mimetype": "text/x-python",
   "name": "python",
   "nbconvert_exporter": "python",
   "pygments_lexer": "ipython3",
   "version": "3.7.3"
  }
 },
 "nbformat": 4,
 "nbformat_minor": 2
}
