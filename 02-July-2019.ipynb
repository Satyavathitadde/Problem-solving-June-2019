{
 "cells": [
  {
   "cell_type": "code",
   "execution_count": 3,
   "metadata": {},
   "outputs": [
    {
     "name": "stdout",
     "output_type": "stream",
     "text": [
      "https://www.google.com  https://www.gmail.com  https:www.eenadu.net  https://www.gmail.com  https://www.google.com\n",
      "3\n",
      "https://www.google.com 2\n",
      "https://www.gmail.com 2\n",
      "https:www.eenadu.net 1\n",
      "https://www.gmail.com 2\n",
      "https://www.google.com 2\n"
     ]
    }
   ],
   "source": [
    "#11. Find the number of unique websites and  print the highest frequency websites in alphabet order\n",
    "#https://www.google.com  https://www.gmail.com  https:www.eenadu.net  https://www.gmail.com  https://www.google.com\n",
    "#3\n",
    "#https://www.gmail.com\n",
    "#https://www.google.com\n",
    "\n",
    "s=input().split()\n",
    "li=[]\n",
    "li2=[]\n",
    "for i in s:\n",
    "    if i not in li:\n",
    "        li.append(i)\n",
    "print(len(li))\n",
    "for i in s:\n",
    "    if i in li:\n",
    "        li2.append(i)\n",
    "        print(i,s.count(i))"
   ]
  },
  {
   "cell_type": "code",
   "execution_count": 1,
   "metadata": {},
   "outputs": [
    {
     "name": "stdout",
     "output_type": "stream",
     "text": [
      "1 2 3 4 5\n",
      "5\n"
     ]
    }
   ],
   "source": [
    "#12. Find the longest distance from 0(zero) if  more than one you get print the lowest value\n",
    "#1 2 3 4 5\n",
    "#5\n",
    "\n",
    "li=list(map(int,input().split()))\n",
    "li.sort()\n",
    "pl=[]\n",
    "for i in li:\n",
    "    pl.append(abs(i))\n",
    "pl.sort()\n",
    "if pl[-1] in li:\n",
    "    print(pl[-1])\n",
    "else:\n",
    "    print(-pl[-1])\n",
    "\n",
    "        \n",
    "        "
   ]
  },
  {
   "cell_type": "code",
   "execution_count": 6,
   "metadata": {},
   "outputs": [
    {
     "name": "stdout",
     "output_type": "stream",
     "text": [
      "{'satya': 1, 'keerthi': 2}\n",
      "{'siri': 3}\n"
     ]
    }
   ],
   "source": [
    "# dict using copy method\n",
    "\n",
    "dict={'satya':1,'keerthi':2,'siri':3}\n",
    "girls={'satya':1,'keerthi':2}\n",
    "boys={'siri':3}\n",
    "student1=girls.copy()\n",
    "student2=boys.copy()\n",
    "print(student1)\n",
    "print(student2)"
   ]
  },
  {
   "cell_type": "code",
   "execution_count": 1,
   "metadata": {},
   "outputs": [
    {
     "name": "stdout",
     "output_type": "stream",
     "text": [
      "5 9\n",
      "True\n",
      "False\n"
     ]
    }
   ],
   "source": [
    "### 2.print given numbers prime or not.\n",
    "\n",
    "#### input: --> 5 9\n",
    "#### output: -->5  True\n",
    "####                   9   False\n",
    "\n",
    "\n",
    "n=list(map(int,input().split()))\n",
    "for i in n:\n",
    "    count=0\n",
    "    for j in range(1,i+1):\n",
    "        if i%j==0:\n",
    "            count=count+1\n",
    "    if count==2:\n",
    "        print(\"True\")\n",
    "    else:\n",
    "        print(\"False\")\n",
    "            \n",
    "    "
   ]
  },
  {
   "cell_type": "code",
   "execution_count": null,
   "metadata": {},
   "outputs": [],
   "source": [
    "## Hacker rank problem\n",
    "n=int(input())\n",
    "if(n%2!=0):\n",
    "    print(\"Weird\")\n",
    "elif(n%2==0)and(n>=2 and n<=5):\n",
    "    print(\"Not Weird\")\n",
    "elif(n%2==0)and(n>=6 and n<=20):\n",
    "    print(\"Weird\")\n",
    "elif(n%2==0 and n>20):\n",
    "    print(\"Not Weird\")"
   ]
  },
  {
   "cell_type": "code",
   "execution_count": 6,
   "metadata": {},
   "outputs": [
    {
     "name": "stdout",
     "output_type": "stream",
     "text": [
      "6\n",
      "1 2 3 4 6 7 6\n",
      "29\n"
     ]
    }
   ],
   "source": [
    "n=int(input())\n",
    "sum=0\n",
    "arr=list(map(int,input().split()))\n",
    "for i in arr:\n",
    "    sum=sum+i\n",
    "print(sum)"
   ]
  },
  {
   "cell_type": "code",
   "execution_count": 28,
   "metadata": {},
   "outputs": [
    {
     "name": "stdout",
     "output_type": "stream",
     "text": [
      "1 2 3 4 5\n",
      "15\n"
     ]
    }
   ],
   "source": [
    "arr=input().split()\n",
    "sum=0\n",
    "for i in arr:\n",
    "    sum=sum+int(i)\n",
    "print(sum)"
   ]
  },
  {
   "cell_type": "code",
   "execution_count": 29,
   "metadata": {},
   "outputs": [
    {
     "name": "stdout",
     "output_type": "stream",
     "text": [
      "5\n",
      "    #\n",
      "   ##\n",
      "  ###\n",
      " ####\n",
      "#####\n"
     ]
    }
   ],
   "source": [
    "n=int(input())\n",
    "for i in range(1,n+1):\n",
    "    n=n-1\n",
    "    print(' '*(n) + ('#'*(i)))\n"
   ]
  },
  {
   "cell_type": "code",
   "execution_count": 31,
   "metadata": {},
   "outputs": [
    {
     "name": "stdout",
     "output_type": "stream",
     "text": [
      "10\n"
     ]
    },
    {
     "data": {
      "text/plain": [
       "True"
      ]
     },
     "execution_count": 31,
     "metadata": {},
     "output_type": "execute_result"
    }
   ],
   "source": [
    "# Develop a function which can identify given number is even or not\n",
    "n=int(input())\n",
    "def iseven(n):\n",
    "    if n%2==0:\n",
    "        return True\n",
    "    return False\n",
    "iseven(n)"
   ]
  },
  {
   "cell_type": "code",
   "execution_count": 35,
   "metadata": {},
   "outputs": [
    {
     "data": {
      "text/plain": [
       "10"
      ]
     },
     "execution_count": 35,
     "metadata": {},
     "output_type": "execute_result"
    }
   ],
   "source": [
    "## Develop a funtion to find the addion of two numbers\n",
    "def addition(a,b):\n",
    "    return a+b\n",
    "addition(4,6)    "
   ]
  },
  {
   "cell_type": "code",
   "execution_count": 44,
   "metadata": {},
   "outputs": [
    {
     "name": "stdout",
     "output_type": "stream",
     "text": [
      "20\n",
      "10\n"
     ]
    },
    {
     "data": {
      "text/plain": [
       "2.0"
      ]
     },
     "execution_count": 44,
     "metadata": {},
     "output_type": "execute_result"
    }
   ],
   "source": [
    "# develop a function to find the division of two numbers a/b\n",
    "def division(a,b):\n",
    "    if b==0:\n",
    "        return \"Division with zero not possible\"\n",
    "    return a/b\n",
    "\n",
    "a=int(input())\n",
    "b=int(input())\n",
    "division(a,b)"
   ]
  },
  {
   "cell_type": "code",
   "execution_count": 52,
   "metadata": {},
   "outputs": [],
   "source": [
    "def sumofnumbers(numbers):\n",
    "    total_marks=0\n",
    "    for each_number in numbers:\n",
    "        total_marks=total_marks+each_number\n",
    "    return total_marks"
   ]
  },
  {
   "cell_type": "code",
   "execution_count": 53,
   "metadata": {},
   "outputs": [
    {
     "data": {
      "text/plain": [
       "370"
      ]
     },
     "execution_count": 53,
     "metadata": {},
     "output_type": "execute_result"
    }
   ],
   "source": [
    "marks=[90,100,50,60,70]\n",
    "sumofnumbers(marks)"
   ]
  },
  {
   "cell_type": "code",
   "execution_count": 59,
   "metadata": {},
   "outputs": [],
   "source": [
    "def printmessage(message):\n",
    "    print(message)\n",
    "    return message"
   ]
  },
  {
   "cell_type": "code",
   "execution_count": 61,
   "metadata": {},
   "outputs": [
    {
     "name": "stdout",
     "output_type": "stream",
     "text": [
      "hai hello\n"
     ]
    },
    {
     "data": {
      "text/plain": [
       "'hai hello'"
      ]
     },
     "execution_count": 61,
     "metadata": {},
     "output_type": "execute_result"
    }
   ],
   "source": [
    "msg=\"hai hello\"\n",
    "printmessage(msg)"
   ]
  },
  {
   "cell_type": "code",
   "execution_count": null,
   "metadata": {},
   "outputs": [],
   "source": []
  },
  {
   "cell_type": "code",
   "execution_count": null,
   "metadata": {},
   "outputs": [],
   "source": []
  }
 ],
 "metadata": {
  "kernelspec": {
   "display_name": "Python 3",
   "language": "python",
   "name": "python3"
  },
  "language_info": {
   "codemirror_mode": {
    "name": "ipython",
    "version": 3
   },
   "file_extension": ".py",
   "mimetype": "text/x-python",
   "name": "python",
   "nbconvert_exporter": "python",
   "pygments_lexer": "ipython3",
   "version": "3.7.3"
  }
 },
 "nbformat": 4,
 "nbformat_minor": 2
}
